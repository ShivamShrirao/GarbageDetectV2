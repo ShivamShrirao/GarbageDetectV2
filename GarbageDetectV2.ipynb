{
  "nbformat": 4,
  "nbformat_minor": 0,
  "metadata": {
    "colab": {
      "name": "GarbageDetectV2_works.ipynb",
      "provenance": [],
      "collapsed_sections": []
    },
    "kernelspec": {
      "name": "python3",
      "display_name": "Python 3"
    },
    "accelerator": "GPU"
  },
  "cells": [
    {
      "cell_type": "code",
      "metadata": {
        "id": "jPSkk_OHaipy",
        "colab_type": "code",
        "colab": {
          "base_uri": "https://localhost:8080/",
          "height": 357
        },
        "outputId": "e9a0cb1c-23b4-4b64-f70e-f559e9916587"
      },
      "source": [
        "!nvidia-smi"
      ],
      "execution_count": 1,
      "outputs": [
        {
          "output_type": "stream",
          "text": [
            "Sun Aug  9 04:42:34 2020       \n",
            "+-----------------------------------------------------------------------------+\n",
            "| NVIDIA-SMI 450.57       Driver Version: 418.67       CUDA Version: 10.1     |\n",
            "|-------------------------------+----------------------+----------------------+\n",
            "| GPU  Name        Persistence-M| Bus-Id        Disp.A | Volatile Uncorr. ECC |\n",
            "| Fan  Temp  Perf  Pwr:Usage/Cap|         Memory-Usage | GPU-Util  Compute M. |\n",
            "|                               |                      |               MIG M. |\n",
            "|===============================+======================+======================|\n",
            "|   0  Tesla P100-PCIE...  Off  | 00000000:00:04.0 Off |                    0 |\n",
            "| N/A   39C    P0    26W / 250W |      0MiB / 16280MiB |      0%      Default |\n",
            "|                               |                      |                 ERR! |\n",
            "+-------------------------------+----------------------+----------------------+\n",
            "                                                                               \n",
            "+-----------------------------------------------------------------------------+\n",
            "| Processes:                                                                  |\n",
            "|  GPU   GI   CI        PID   Type   Process name                  GPU Memory |\n",
            "|        ID   ID                                                   Usage      |\n",
            "|=============================================================================|\n",
            "|  No running processes found                                                 |\n",
            "+-----------------------------------------------------------------------------+\n"
          ],
          "name": "stdout"
        }
      ]
    },
    {
      "cell_type": "code",
      "metadata": {
        "id": "1a0NutvTWITU",
        "colab_type": "code",
        "colab": {}
      },
      "source": [
        "!pip install -U tensorflow -q"
      ],
      "execution_count": 2,
      "outputs": []
    },
    {
      "cell_type": "code",
      "metadata": {
        "id": "MwmMwqABeGYe",
        "colab_type": "code",
        "colab": {
          "base_uri": "https://localhost:8080/",
          "height": 34
        },
        "outputId": "0f52fda0-cf7c-4769-983d-37ca0c463bfe"
      },
      "source": [
        "!pip uninstall keras-applications --yes"
      ],
      "execution_count": 3,
      "outputs": [
        {
          "output_type": "stream",
          "text": [
            "\u001b[33mWARNING: Skipping keras-applications as it is not installed.\u001b[0m\n"
          ],
          "name": "stdout"
        }
      ]
    },
    {
      "cell_type": "code",
      "metadata": {
        "id": "Z5OcePAFeO2D",
        "colab_type": "code",
        "colab": {
          "base_uri": "https://localhost:8080/",
          "height": 258
        },
        "outputId": "cc53d38e-3ea3-4a7e-e8e8-8247aa596308"
      },
      "source": [
        "!pip install git+https://github.com/keras-team/keras-applications.git@master"
      ],
      "execution_count": 4,
      "outputs": [
        {
          "output_type": "stream",
          "text": [
            "Collecting git+https://github.com/keras-team/keras-applications.git@master\n",
            "  Cloning https://github.com/keras-team/keras-applications.git (to revision master) to /tmp/pip-req-build-6_6g1hge\n",
            "  Running command git clone -q https://github.com/keras-team/keras-applications.git /tmp/pip-req-build-6_6g1hge\n",
            "Requirement already satisfied: numpy>=1.9.1 in /usr/local/lib/python3.6/dist-packages (from Keras-Applications==1.0.8) (1.18.5)\n",
            "Requirement already satisfied: h5py in /usr/local/lib/python3.6/dist-packages (from Keras-Applications==1.0.8) (2.10.0)\n",
            "Requirement already satisfied: six in /usr/local/lib/python3.6/dist-packages (from h5py->Keras-Applications==1.0.8) (1.15.0)\n",
            "Building wheels for collected packages: Keras-Applications\n",
            "  Building wheel for Keras-Applications (setup.py) ... \u001b[?25l\u001b[?25hdone\n",
            "  Created wheel for Keras-Applications: filename=Keras_Applications-1.0.8-cp36-none-any.whl size=62000 sha256=b4601774cb10ef1d5798899de8b9eb2e51223140ee4a7746b1f71494c203f8df\n",
            "  Stored in directory: /tmp/pip-ephem-wheel-cache-z3q0bmg9/wheels/f8/3c/48/007f19c86cc5d5f276a748f003a63bc19558539eab93afb545\n",
            "Successfully built Keras-Applications\n",
            "Installing collected packages: Keras-Applications\n",
            "Successfully installed Keras-Applications-1.0.8\n"
          ],
          "name": "stdout"
        }
      ]
    },
    {
      "cell_type": "code",
      "metadata": {
        "id": "NtFrg6FQex26",
        "colab_type": "code",
        "colab": {}
      },
      "source": [
        "from keras_applications import mobilenet_v3"
      ],
      "execution_count": 7,
      "outputs": []
    },
    {
      "cell_type": "code",
      "metadata": {
        "id": "wiFobbnftK9f",
        "colab_type": "code",
        "colab": {}
      },
      "source": [
        "import tensorflow as tf\n",
        "import numpy as np"
      ],
      "execution_count": 8,
      "outputs": []
    },
    {
      "cell_type": "code",
      "metadata": {
        "id": "hG6mI3pMLxC_",
        "colab_type": "code",
        "colab": {}
      },
      "source": [
        "import cv2\n",
        "import matplotlib.pyplot as plt"
      ],
      "execution_count": 9,
      "outputs": []
    },
    {
      "cell_type": "code",
      "metadata": {
        "id": "nRHVycCLgFzY",
        "colab_type": "code",
        "colab": {
          "base_uri": "https://localhost:8080/",
          "height": 105
        },
        "outputId": "c0903335-28fe-47e1-b033-8f3e7fa7a165"
      },
      "source": [
        "base_model = mobilenet_v3.MobileNetV3Small(input_shape=(None, None, 3),\n",
        "                              alpha=0.75,\n",
        "                              minimalistic=False,\n",
        "                              include_top=False,\n",
        "                              weights=\"imagenet\",\n",
        "                              backend=tf.keras.backend,\n",
        "                              layers=tf.keras.layers,\n",
        "                              models=tf.keras.models,\n",
        "                              utils=tf.keras.utils\n",
        "                              )"
      ],
      "execution_count": 10,
      "outputs": [
        {
          "output_type": "stream",
          "text": [
            "/usr/local/lib/python3.6/dist-packages/keras_applications/mobilenet_v3.py:348: UserWarning: `input_shape` is undefined or non-square, or `rows` is not 224. Weights for input shape (224, 224) will be loaded as the default.\n",
            "  warnings.warn('`input_shape` is undefined or non-square, '\n"
          ],
          "name": "stderr"
        },
        {
          "output_type": "stream",
          "text": [
            "Downloading data from https://github.com/DrSlink/mobilenet_v3_keras/releases/download/v1.0/weights_mobilenet_v3_small_224_0.75_float_no_top.h5\n",
            "2850816/2843184 [==============================] - 1s 0us/step\n"
          ],
          "name": "stdout"
        }
      ]
    },
    {
      "cell_type": "code",
      "metadata": {
        "id": "x_alOIsZXJ84",
        "colab_type": "code",
        "colab": {}
      },
      "source": [
        "base_model.trainable = False"
      ],
      "execution_count": 45,
      "outputs": []
    },
    {
      "cell_type": "code",
      "metadata": {
        "id": "SoAcnatitiOm",
        "colab_type": "code",
        "colab": {
          "base_uri": "https://localhost:8080/",
          "height": 34
        },
        "outputId": "0c6cc47a-d99f-44b4-c5b5-1e6962b41539"
      },
      "source": [
        "out = base_model.predict(np.random.randn(1,320,320,3))\n",
        "out.shape"
      ],
      "execution_count": 12,
      "outputs": [
        {
          "output_type": "execute_result",
          "data": {
            "text/plain": [
              "(1, 10, 10, 432)"
            ]
          },
          "metadata": {
            "tags": []
          },
          "execution_count": 12
        }
      ]
    },
    {
      "cell_type": "code",
      "metadata": {
        "id": "TMsKDfD6YITL",
        "colab_type": "code",
        "colab": {}
      },
      "source": [
        "num_classes = 1"
      ],
      "execution_count": 13,
      "outputs": []
    },
    {
      "cell_type": "code",
      "metadata": {
        "id": "BRfOUXnr2dJr",
        "colab_type": "code",
        "colab": {
          "base_uri": "https://localhost:8080/",
          "height": 34
        },
        "outputId": "b7c2106c-577e-4976-b3c8-7a43bb75e67a"
      },
      "source": [
        "inputs = tf.keras.Input(shape=(None, None, 3))\n",
        "sf = base_model(inputs, training=False)\n",
        "sf = tf.keras.layers.Conv2D(128, kernel_size=1, strides=1)(sf)\n",
        "sf = tf.keras.layers.Activation(mobilenet_v3.hard_swish)(sf)\n",
        "sf = tf.keras.layers.Conv2DTranspose(64, kernel_size=3, strides=2, padding=\"same\")(sf)\n",
        "sf = tf.keras.layers.Activation(mobilenet_v3.hard_swish)(sf)\n",
        "sf = tf.keras.layers.Conv2D(num_classes, kernel_size=1, strides=1)(sf)\n",
        "# sf = tf.keras.layers.Activation('sigmoid')(sf)\n",
        "sf.shape"
      ],
      "execution_count": 14,
      "outputs": [
        {
          "output_type": "execute_result",
          "data": {
            "text/plain": [
              "TensorShape([None, None, None, 1])"
            ]
          },
          "metadata": {
            "tags": []
          },
          "execution_count": 14
        }
      ]
    },
    {
      "cell_type": "code",
      "metadata": {
        "id": "0-5oxuNEzE-U",
        "colab_type": "code",
        "colab": {}
      },
      "source": [
        "model = tf.keras.models.Model(inputs, outputs=sf)"
      ],
      "execution_count": 17,
      "outputs": []
    },
    {
      "cell_type": "code",
      "metadata": {
        "id": "4pw8jD4pzF4t",
        "colab_type": "code",
        "colab": {
          "base_uri": "https://localhost:8080/",
          "height": 391
        },
        "outputId": "ea80ea45-71e6-4daa-d3d0-ec157b476231"
      },
      "source": [
        "model.summary()"
      ],
      "execution_count": 18,
      "outputs": [
        {
          "output_type": "stream",
          "text": [
            "Model: \"functional_2\"\n",
            "_________________________________________________________________\n",
            "Layer (type)                 Output Shape              Param #   \n",
            "=================================================================\n",
            "input_2 (InputLayer)         [(None, None, None, 3)]   0         \n",
            "_________________________________________________________________\n",
            "MobilenetV3small (Functional (None, None, None, 432)   583160    \n",
            "_________________________________________________________________\n",
            "conv2d (Conv2D)              (None, None, None, 128)   55424     \n",
            "_________________________________________________________________\n",
            "activation_32 (Activation)   (None, None, None, 128)   0         \n",
            "_________________________________________________________________\n",
            "conv2d_transpose (Conv2DTran (None, None, None, 64)    73792     \n",
            "_________________________________________________________________\n",
            "activation_33 (Activation)   (None, None, None, 64)    0         \n",
            "_________________________________________________________________\n",
            "conv2d_1 (Conv2D)            (None, None, None, 1)     65        \n",
            "=================================================================\n",
            "Total params: 712,441\n",
            "Trainable params: 129,281\n",
            "Non-trainable params: 583,160\n",
            "_________________________________________________________________\n"
          ],
          "name": "stdout"
        }
      ]
    },
    {
      "cell_type": "code",
      "metadata": {
        "id": "nptz1axcatKZ",
        "colab_type": "code",
        "colab": {}
      },
      "source": [
        "base_learning_rate = 0.001\n",
        "model.compile(optimizer=tf.keras.optimizers.Adam(lr=base_learning_rate),\n",
        "              loss=tf.keras.losses.BinaryCrossentropy(from_logits=True),\n",
        "              metrics=['accuracy']\n",
        "              )"
      ],
      "execution_count": 19,
      "outputs": []
    },
    {
      "cell_type": "code",
      "metadata": {
        "id": "AYxdXKrdXD9G",
        "colab_type": "code",
        "colab": {
          "base_uri": "https://localhost:8080/",
          "height": 34
        },
        "outputId": "5602d65d-e324-4cec-a4ab-e48014c438e1"
      },
      "source": [
        "out = model.predict(np.random.randn(1,320,320,3))\n",
        "out.shape"
      ],
      "execution_count": 71,
      "outputs": [
        {
          "output_type": "execute_result",
          "data": {
            "text/plain": [
              "(1, 20, 20, 1)"
            ]
          },
          "metadata": {
            "tags": []
          },
          "execution_count": 71
        }
      ]
    },
    {
      "cell_type": "code",
      "metadata": {
        "id": "zOH_BOgbZARo",
        "colab_type": "code",
        "colab": {}
      },
      "source": [
        "AUTOTUNE = tf.data.experimental.AUTOTUNE"
      ],
      "execution_count": 21,
      "outputs": []
    },
    {
      "cell_type": "code",
      "metadata": {
        "id": "ALkvbAU0yyzp",
        "colab_type": "code",
        "colab": {}
      },
      "source": [
        "BATCH_SIZE = 64\n",
        "IMG_HEIGHT = 320\n",
        "IMG_WIDTH = 320\n",
        "OUT_HEIGHT = 20\n",
        "OUT_WIDTH = 20"
      ],
      "execution_count": 22,
      "outputs": []
    },
    {
      "cell_type": "code",
      "metadata": {
        "id": "Ey2RBXX0zrPC",
        "colab_type": "code",
        "colab": {
          "base_uri": "https://localhost:8080/",
          "height": 122
        },
        "outputId": "dad40cb5-5da8-41ca-fc3c-709c6b4d62cc"
      },
      "source": [
        "from google.colab import drive\n",
        "drive.mount('/content/drive')"
      ],
      "execution_count": 23,
      "outputs": [
        {
          "output_type": "stream",
          "text": [
            "Go to this URL in a browser: https://accounts.google.com/o/oauth2/auth?client_id=947318989803-6bn6qk8qdgf4n4g3pfee6491hc0brc4i.apps.googleusercontent.com&redirect_uri=urn%3aietf%3awg%3aoauth%3a2.0%3aoob&response_type=code&scope=email%20https%3a%2f%2fwww.googleapis.com%2fauth%2fdocs.test%20https%3a%2f%2fwww.googleapis.com%2fauth%2fdrive%20https%3a%2f%2fwww.googleapis.com%2fauth%2fdrive.photos.readonly%20https%3a%2f%2fwww.googleapis.com%2fauth%2fpeopleapi.readonly\n",
            "\n",
            "Enter your authorization code:\n",
            "··········\n",
            "Mounted at /content/drive\n"
          ],
          "name": "stdout"
        }
      ]
    },
    {
      "cell_type": "code",
      "metadata": {
        "id": "xse0Azzjz22p",
        "colab_type": "code",
        "colab": {}
      },
      "source": [
        "!cp /content/drive/My\\ Drive/garbage_dataset.zip /content/"
      ],
      "execution_count": 24,
      "outputs": []
    },
    {
      "cell_type": "code",
      "metadata": {
        "id": "avi0P-tj0GN1",
        "colab_type": "code",
        "colab": {}
      },
      "source": [
        "!unzip -q garbage_dataset.zip"
      ],
      "execution_count": 25,
      "outputs": []
    },
    {
      "cell_type": "code",
      "metadata": {
        "id": "sOMEwCKy0Lm8",
        "colab_type": "code",
        "colab": {}
      },
      "source": [
        "list_ds = tf.data.Dataset.list_files(\"garbage_dataset/train/*\")\n",
        "valid_ds = tf.data.Dataset.list_files(\"garbage_dataset/test/*\")"
      ],
      "execution_count": 26,
      "outputs": []
    },
    {
      "cell_type": "code",
      "metadata": {
        "id": "1DXFy085M3h9",
        "colab_type": "code",
        "colab": {}
      },
      "source": [
        "LEN_DS = len(list(list_ds))"
      ],
      "execution_count": 27,
      "outputs": []
    },
    {
      "cell_type": "code",
      "metadata": {
        "id": "epet6-k50msH",
        "colab_type": "code",
        "colab": {
          "base_uri": "https://localhost:8080/",
          "height": 34
        },
        "outputId": "e627abf9-98e7-490e-f41b-c28690e60e30"
      },
      "source": [
        "for f in list_ds.take(1):\n",
        "    print(f)"
      ],
      "execution_count": 28,
      "outputs": [
        {
          "output_type": "stream",
          "text": [
            "tf.Tensor(b'garbage_dataset/train/38b3f02e-9447-11e5-9ae8-40f2e96c8ad8.jpg', shape=(), dtype=string)\n"
          ],
          "name": "stdout"
        }
      ]
    },
    {
      "cell_type": "code",
      "metadata": {
        "id": "Wk2BL8fb204M",
        "colab_type": "code",
        "colab": {}
      },
      "source": [
        "import pickle\n",
        "with open('labels.pickle', 'rb') as f:\n",
        "    lbls = pickle.load(f)"
      ],
      "execution_count": 29,
      "outputs": []
    },
    {
      "cell_type": "code",
      "metadata": {
        "id": "HJQ_d6r80xY4",
        "colab_type": "code",
        "colab": {}
      },
      "source": [
        "def get_label(file_path):\n",
        "    parts = tf.strings.split(file_path, '/')\n",
        "    label = lbls[parts[-1].numpy().decode()]\n",
        "    label = tf.convert_to_tensor(label, tf.float32)\n",
        "    return label"
      ],
      "execution_count": 30,
      "outputs": []
    },
    {
      "cell_type": "code",
      "metadata": {
        "id": "8N8hfJJa9z1B",
        "colab_type": "code",
        "colab": {}
      },
      "source": [
        "get_label_wrapper = lambda x: tf.py_function(get_label, [x], tf.float32)"
      ],
      "execution_count": 31,
      "outputs": []
    },
    {
      "cell_type": "code",
      "metadata": {
        "id": "nb3bGJY95JQN",
        "colab_type": "code",
        "colab": {}
      },
      "source": [
        "def decode_img(img):\n",
        "    img = tf.io.decode_image(img, channels=3, expand_animations = False)\n",
        "    img = tf.image.convert_image_dtype(img, tf.float32)\n",
        "    img = tf.image.resize(img, [IMG_WIDTH, IMG_HEIGHT])\n",
        "    return img*2 - 1"
      ],
      "execution_count": 32,
      "outputs": []
    },
    {
      "cell_type": "code",
      "metadata": {
        "id": "812P-z7v5wqU",
        "colab_type": "code",
        "colab": {}
      },
      "source": [
        "def process_path(file_path):\n",
        "    label = get_label_wrapper(file_path)\n",
        "    label.set_shape([OUT_HEIGHT, OUT_WIDTH, num_classes])\n",
        "    img = tf.io.read_file(file_path)\n",
        "    img = decode_img(img)\n",
        "    return img, label"
      ],
      "execution_count": 33,
      "outputs": []
    },
    {
      "cell_type": "code",
      "metadata": {
        "id": "EuZTXr2E50EC",
        "colab_type": "code",
        "colab": {}
      },
      "source": [
        "labeled_ds = list_ds.map(process_path, num_parallel_calls=AUTOTUNE)\n",
        "labeled_test_ds = valid_ds.map(process_path, num_parallel_calls=AUTOTUNE)"
      ],
      "execution_count": 34,
      "outputs": []
    },
    {
      "cell_type": "code",
      "metadata": {
        "id": "bccRMtwc53dj",
        "colab_type": "code",
        "colab": {
          "base_uri": "https://localhost:8080/",
          "height": 51
        },
        "outputId": "c334d0ef-995d-4a61-b610-0ad2f50b43db"
      },
      "source": [
        "for image, label in labeled_ds.take(1):\n",
        "    print(\"Image shape: \", image.numpy().shape)\n",
        "    print(\"Label: \", label.numpy().shape)"
      ],
      "execution_count": 35,
      "outputs": [
        {
          "output_type": "stream",
          "text": [
            "Image shape:  (320, 320, 3)\n",
            "Label:  (20, 20, 1)\n"
          ],
          "name": "stdout"
        }
      ]
    },
    {
      "cell_type": "code",
      "metadata": {
        "id": "ux8S1hkENN6z",
        "colab_type": "code",
        "colab": {
          "base_uri": "https://localhost:8080/",
          "height": 34
        },
        "outputId": "cc671210-9a07-40f3-d60d-e34a44186d68"
      },
      "source": [
        "image.numpy().min()"
      ],
      "execution_count": 36,
      "outputs": [
        {
          "output_type": "execute_result",
          "data": {
            "text/plain": [
              "-1.0"
            ]
          },
          "metadata": {
            "tags": []
          },
          "execution_count": 36
        }
      ]
    },
    {
      "cell_type": "code",
      "metadata": {
        "id": "EK4SmMhH7_3a",
        "colab_type": "code",
        "colab": {}
      },
      "source": [
        "def prepare_for_training(ds, cache=True):\n",
        "    if cache:\n",
        "        if isinstance(cache, str):\n",
        "            ds = ds.cache(cache)\n",
        "        else:\n",
        "            ds = ds.cache()\n",
        "    ds = ds.shuffle(buffer_size=100)\n",
        "    ds = ds.repeat() #repeat forever\n",
        "    ds = ds.batch(BATCH_SIZE)\n",
        "    ds = ds.prefetch(buffer_size=AUTOTUNE)\n",
        "    return ds"
      ],
      "execution_count": 37,
      "outputs": []
    },
    {
      "cell_type": "code",
      "metadata": {
        "id": "GRfdjqnjKH1H",
        "colab_type": "code",
        "colab": {}
      },
      "source": [
        "train_ds = prepare_for_training(labeled_ds)\n",
        "test_ds = prepare_for_training(labeled_test_ds)"
      ],
      "execution_count": 38,
      "outputs": []
    },
    {
      "cell_type": "code",
      "metadata": {
        "id": "PUu7G5_9J4Di",
        "colab_type": "code",
        "colab": {}
      },
      "source": [
        "def lr_scheduler(epoch, lr):\n",
        "    if not epoch % 4 and epoch:\n",
        "        return lr/2\n",
        "    return lr\n",
        "lrsc = tf.keras.callbacks.LearningRateScheduler(lr_scheduler, verbose=1)"
      ],
      "execution_count": 39,
      "outputs": []
    },
    {
      "cell_type": "code",
      "metadata": {
        "id": "K0njlsH7KqsZ",
        "colab_type": "code",
        "colab": {
          "base_uri": "https://localhost:8080/",
          "height": 1000
        },
        "outputId": "3a580466-d05d-4761-9e6c-977254154db6"
      },
      "source": [
        "history = model.fit(train_ds,\n",
        "                    epochs=15,\n",
        "                    steps_per_epoch=40,\n",
        "                    validation_data=test_ds,\n",
        "                    validation_steps=6,\n",
        "                    callbacks=[lrsc])"
      ],
      "execution_count": 40,
      "outputs": [
        {
          "output_type": "stream",
          "text": [
            "\n",
            "Epoch 00001: LearningRateScheduler reducing learning rate to 0.0010000000474974513.\n",
            "Epoch 1/15\n",
            "40/40 [==============================] - 52s 1s/step - loss: 0.2745 - accuracy: 0.9136 - val_loss: 0.1888 - val_accuracy: 0.9282\n",
            "\n",
            "Epoch 00002: LearningRateScheduler reducing learning rate to 0.0010000000474974513.\n",
            "Epoch 2/15\n",
            "40/40 [==============================] - 3s 70ms/step - loss: 0.1644 - accuracy: 0.9352 - val_loss: 0.1595 - val_accuracy: 0.9354\n",
            "\n",
            "Epoch 00003: LearningRateScheduler reducing learning rate to 0.0010000000474974513.\n",
            "Epoch 3/15\n",
            "40/40 [==============================] - 3s 72ms/step - loss: 0.1418 - accuracy: 0.9420 - val_loss: 0.1575 - val_accuracy: 0.9353\n",
            "\n",
            "Epoch 00004: LearningRateScheduler reducing learning rate to 0.0010000000474974513.\n",
            "Epoch 4/15\n",
            "40/40 [==============================] - 3s 70ms/step - loss: 0.1307 - accuracy: 0.9453 - val_loss: 0.1449 - val_accuracy: 0.9409\n",
            "\n",
            "Epoch 00005: LearningRateScheduler reducing learning rate to 0.0005000000237487257.\n",
            "Epoch 5/15\n",
            "40/40 [==============================] - 3s 72ms/step - loss: 0.1205 - accuracy: 0.9493 - val_loss: 0.1485 - val_accuracy: 0.9404\n",
            "\n",
            "Epoch 00006: LearningRateScheduler reducing learning rate to 0.0005000000237487257.\n",
            "Epoch 6/15\n",
            "40/40 [==============================] - 3s 70ms/step - loss: 0.1132 - accuracy: 0.9524 - val_loss: 0.1441 - val_accuracy: 0.9426\n",
            "\n",
            "Epoch 00007: LearningRateScheduler reducing learning rate to 0.0005000000237487257.\n",
            "Epoch 7/15\n",
            "40/40 [==============================] - 3s 70ms/step - loss: 0.1136 - accuracy: 0.9519 - val_loss: 0.1414 - val_accuracy: 0.9444\n",
            "\n",
            "Epoch 00008: LearningRateScheduler reducing learning rate to 0.0005000000237487257.\n",
            "Epoch 8/15\n",
            "40/40 [==============================] - 3s 71ms/step - loss: 0.1041 - accuracy: 0.9561 - val_loss: 0.1468 - val_accuracy: 0.9428\n",
            "\n",
            "Epoch 00009: LearningRateScheduler reducing learning rate to 0.0002500000118743628.\n",
            "Epoch 9/15\n",
            "40/40 [==============================] - 3s 71ms/step - loss: 0.1033 - accuracy: 0.9561 - val_loss: 0.1444 - val_accuracy: 0.9428\n",
            "\n",
            "Epoch 00010: LearningRateScheduler reducing learning rate to 0.0002500000118743628.\n",
            "Epoch 10/15\n",
            "40/40 [==============================] - 3s 70ms/step - loss: 0.0994 - accuracy: 0.9579 - val_loss: 0.1475 - val_accuracy: 0.9429\n",
            "\n",
            "Epoch 00011: LearningRateScheduler reducing learning rate to 0.0002500000118743628.\n",
            "Epoch 11/15\n",
            "40/40 [==============================] - 3s 72ms/step - loss: 0.0981 - accuracy: 0.9586 - val_loss: 0.1525 - val_accuracy: 0.9395\n",
            "\n",
            "Epoch 00012: LearningRateScheduler reducing learning rate to 0.0002500000118743628.\n",
            "Epoch 12/15\n",
            "40/40 [==============================] - 3s 71ms/step - loss: 0.0947 - accuracy: 0.9600 - val_loss: 0.1547 - val_accuracy: 0.9404\n",
            "\n",
            "Epoch 00013: LearningRateScheduler reducing learning rate to 0.0001250000059371814.\n",
            "Epoch 13/15\n",
            "40/40 [==============================] - 3s 71ms/step - loss: 0.0936 - accuracy: 0.9606 - val_loss: 0.1467 - val_accuracy: 0.9432\n",
            "\n",
            "Epoch 00014: LearningRateScheduler reducing learning rate to 0.0001250000059371814.\n",
            "Epoch 14/15\n",
            "40/40 [==============================] - 3s 71ms/step - loss: 0.0912 - accuracy: 0.9615 - val_loss: 0.1429 - val_accuracy: 0.9449\n",
            "\n",
            "Epoch 00015: LearningRateScheduler reducing learning rate to 0.0001250000059371814.\n",
            "Epoch 15/15\n",
            "40/40 [==============================] - 3s 71ms/step - loss: 0.0911 - accuracy: 0.9616 - val_loss: 0.1429 - val_accuracy: 0.9453\n"
          ],
          "name": "stdout"
        }
      ]
    },
    {
      "cell_type": "code",
      "metadata": {
        "id": "SpEAs0b_K_xf",
        "colab_type": "code",
        "colab": {
          "base_uri": "https://localhost:8080/",
          "height": 513
        },
        "outputId": "9b0c70ef-1595-4eb1-e170-b298ff1f312d"
      },
      "source": [
        "acc = history.history['accuracy']\n",
        "val_acc = history.history['val_accuracy']\n",
        "\n",
        "loss = history.history['loss']\n",
        "val_loss = history.history['val_loss']\n",
        "\n",
        "plt.figure(figsize=(8, 8))\n",
        "plt.subplot(2, 1, 1)\n",
        "plt.plot(acc, label='Training Accuracy')\n",
        "plt.plot(val_acc, label='Validation Accuracy')\n",
        "plt.legend(loc='upper right')\n",
        "plt.ylabel('Accuracy')\n",
        "# plt.ylim([min(plt.ylim()),1])\n",
        "plt.title('Training and Validation Accuracy')\n",
        "\n",
        "plt.subplot(2, 1, 2)\n",
        "plt.plot(loss, label='Training Loss')\n",
        "plt.plot(val_loss, label='Validation Loss')\n",
        "plt.legend(loc='upper right')\n",
        "plt.ylabel('Cross Entropy')\n",
        "# plt.ylim([0,1.0])\n",
        "plt.title('Training and Validation Loss')\n",
        "plt.xlabel('epoch')\n",
        "plt.show()"
      ],
      "execution_count": 41,
      "outputs": [
        {
          "output_type": "display_data",
          "data": {
            "image/png": "[encoded data removed]",
            "text/plain": [
              "<Figure size 576x576 with 2 Axes>"
            ]
          },
          "metadata": {
            "tags": [],
            "needs_background": "light"
          }
        }
      ]
    },
    {
      "cell_type": "code",
      "metadata": {
        "id": "muVPUeJlLW4b",
        "colab_type": "code",
        "colab": {}
      },
      "source": [
        "for lyr in base_model.layers[-52:]:\n",
        "    lyr.trainable=True"
      ],
      "execution_count": 46,
      "outputs": []
    },
    {
      "cell_type": "code",
      "metadata": {
        "id": "fHJSSLjnLare",
        "colab_type": "code",
        "colab": {}
      },
      "source": [
        "model.compile(optimizer=tf.keras.optimizers.Adam(lr=base_learning_rate/10),\n",
        "              loss=tf.keras.losses.BinaryCrossentropy(from_logits=True),\n",
        "              metrics=['accuracy'])"
      ],
      "execution_count": 67,
      "outputs": []
    },
    {
      "cell_type": "code",
      "metadata": {
        "id": "PSbCJp7uLalF",
        "colab_type": "code",
        "colab": {
          "base_uri": "https://localhost:8080/",
          "height": 1000
        },
        "outputId": "8a7ddd7f-7e5a-4947-887d-3114c6ed4450"
      },
      "source": [
        "history_fine = model.fit(train_ds,\n",
        "                         epochs=20,\n",
        "                         steps_per_epoch=40,\n",
        "                        #  initial_epoch = history.epoch[-1]+1,\n",
        "                         validation_data=test_ds,\n",
        "                         validation_steps=6,\n",
        "                         callbacks=[lrsc])"
      ],
      "execution_count": 68,
      "outputs": [
        {
          "output_type": "stream",
          "text": [
            "\n",
            "Epoch 00001: LearningRateScheduler reducing learning rate to 9.999999747378752e-05.\n",
            "Epoch 1/20\n",
            "40/40 [==============================] - 4s 89ms/step - loss: 0.0663 - accuracy: 0.9724 - val_loss: 0.1888 - val_accuracy: 0.9394\n",
            "\n",
            "Epoch 00002: LearningRateScheduler reducing learning rate to 9.999999747378752e-05.\n",
            "Epoch 2/20\n",
            "40/40 [==============================] - 3s 71ms/step - loss: 0.0653 - accuracy: 0.9731 - val_loss: 0.1760 - val_accuracy: 0.9433\n",
            "\n",
            "Epoch 00003: LearningRateScheduler reducing learning rate to 9.999999747378752e-05.\n",
            "Epoch 3/20\n",
            "40/40 [==============================] - 3s 70ms/step - loss: 0.0646 - accuracy: 0.9733 - val_loss: 0.1877 - val_accuracy: 0.9404\n",
            "\n",
            "Epoch 00004: LearningRateScheduler reducing learning rate to 9.999999747378752e-05.\n",
            "Epoch 4/20\n",
            "40/40 [==============================] - 3s 70ms/step - loss: 0.0634 - accuracy: 0.9737 - val_loss: 0.1862 - val_accuracy: 0.9408\n",
            "\n",
            "Epoch 00005: LearningRateScheduler reducing learning rate to 4.999999873689376e-05.\n",
            "Epoch 5/20\n",
            "40/40 [==============================] - 3s 70ms/step - loss: 0.0634 - accuracy: 0.9737 - val_loss: 0.1858 - val_accuracy: 0.9408\n",
            "\n",
            "Epoch 00006: LearningRateScheduler reducing learning rate to 4.999999873689376e-05.\n",
            "Epoch 6/20\n",
            "40/40 [==============================] - 3s 71ms/step - loss: 0.0632 - accuracy: 0.9739 - val_loss: 0.1769 - val_accuracy: 0.9438\n",
            "\n",
            "Epoch 00007: LearningRateScheduler reducing learning rate to 4.999999873689376e-05.\n",
            "Epoch 7/20\n",
            "40/40 [==============================] - 3s 71ms/step - loss: 0.0635 - accuracy: 0.9737 - val_loss: 0.1886 - val_accuracy: 0.9396\n",
            "\n",
            "Epoch 00008: LearningRateScheduler reducing learning rate to 4.999999873689376e-05.\n",
            "Epoch 8/20\n",
            "40/40 [==============================] - 3s 71ms/step - loss: 0.0615 - accuracy: 0.9748 - val_loss: 0.1796 - val_accuracy: 0.9432\n",
            "\n",
            "Epoch 00009: LearningRateScheduler reducing learning rate to 2.499999936844688e-05.\n",
            "Epoch 9/20\n",
            "40/40 [==============================] - 3s 69ms/step - loss: 0.0628 - accuracy: 0.9740 - val_loss: 0.1900 - val_accuracy: 0.9391\n",
            "\n",
            "Epoch 00010: LearningRateScheduler reducing learning rate to 2.499999936844688e-05.\n",
            "Epoch 10/20\n",
            "40/40 [==============================] - 3s 71ms/step - loss: 0.0608 - accuracy: 0.9750 - val_loss: 0.1854 - val_accuracy: 0.9404\n",
            "\n",
            "Epoch 00011: LearningRateScheduler reducing learning rate to 2.499999936844688e-05.\n",
            "Epoch 11/20\n",
            "40/40 [==============================] - 3s 71ms/step - loss: 0.0627 - accuracy: 0.9741 - val_loss: 0.1947 - val_accuracy: 0.9391\n",
            "\n",
            "Epoch 00012: LearningRateScheduler reducing learning rate to 2.499999936844688e-05.\n",
            "Epoch 12/20\n",
            "40/40 [==============================] - 3s 72ms/step - loss: 0.0611 - accuracy: 0.9748 - val_loss: 0.1915 - val_accuracy: 0.9396\n",
            "\n",
            "Epoch 00013: LearningRateScheduler reducing learning rate to 1.249999968422344e-05.\n",
            "Epoch 13/20\n",
            "40/40 [==============================] - 3s 72ms/step - loss: 0.0614 - accuracy: 0.9748 - val_loss: 0.1864 - val_accuracy: 0.9415\n",
            "\n",
            "Epoch 00014: LearningRateScheduler reducing learning rate to 1.249999968422344e-05.\n",
            "Epoch 14/20\n",
            "40/40 [==============================] - 3s 71ms/step - loss: 0.0607 - accuracy: 0.9749 - val_loss: 0.1947 - val_accuracy: 0.9396\n",
            "\n",
            "Epoch 00015: LearningRateScheduler reducing learning rate to 1.249999968422344e-05.\n",
            "Epoch 15/20\n",
            "40/40 [==============================] - 3s 70ms/step - loss: 0.0620 - accuracy: 0.9746 - val_loss: 0.1827 - val_accuracy: 0.9409\n",
            "\n",
            "Epoch 00016: LearningRateScheduler reducing learning rate to 1.249999968422344e-05.\n",
            "Epoch 16/20\n",
            "40/40 [==============================] - 3s 70ms/step - loss: 0.0603 - accuracy: 0.9751 - val_loss: 0.1961 - val_accuracy: 0.9400\n",
            "\n",
            "Epoch 00017: LearningRateScheduler reducing learning rate to 6.24999984211172e-06.\n",
            "Epoch 17/20\n",
            "40/40 [==============================] - 3s 71ms/step - loss: 0.0611 - accuracy: 0.9749 - val_loss: 0.1926 - val_accuracy: 0.9387\n",
            "\n",
            "Epoch 00018: LearningRateScheduler reducing learning rate to 6.24999984211172e-06.\n",
            "Epoch 18/20\n",
            "40/40 [==============================] - 3s 71ms/step - loss: 0.0613 - accuracy: 0.9747 - val_loss: 0.1930 - val_accuracy: 0.9404\n",
            "\n",
            "Epoch 00019: LearningRateScheduler reducing learning rate to 6.24999984211172e-06.\n",
            "Epoch 19/20\n",
            "40/40 [==============================] - 3s 71ms/step - loss: 0.0604 - accuracy: 0.9751 - val_loss: 0.1804 - val_accuracy: 0.9433\n",
            "\n",
            "Epoch 00020: LearningRateScheduler reducing learning rate to 6.24999984211172e-06.\n",
            "Epoch 20/20\n",
            "40/40 [==============================] - 3s 72ms/step - loss: 0.0619 - accuracy: 0.9744 - val_loss: 0.1855 - val_accuracy: 0.9413\n"
          ],
          "name": "stdout"
        }
      ]
    },
    {
      "cell_type": "code",
      "metadata": {
        "id": "FmjQ-KO6LafS",
        "colab_type": "code",
        "colab": {}
      },
      "source": [
        "acc += history_fine.history['accuracy']\n",
        "val_acc += history_fine.history['val_accuracy']\n",
        "\n",
        "loss += history_fine.history['loss']\n",
        "val_loss += history_fine.history['val_loss']"
      ],
      "execution_count": 69,
      "outputs": []
    },
    {
      "cell_type": "code",
      "metadata": {
        "id": "zc34MHNMLaTl",
        "colab_type": "code",
        "colab": {
          "base_uri": "https://localhost:8080/",
          "height": 730
        },
        "outputId": "0f6afc2d-38e2-4d9c-e927-10462f12d736"
      },
      "source": [
        "initial_epochs = history.epoch[-1]\n",
        "second_tune = 35-1\n",
        "third_tune = 55\n",
        "fourth_tune = 75\n",
        "fifth_tune = 95\n",
        "\n",
        "plt.figure(figsize=(12, 12))\n",
        "plt.subplot(2, 1, 1)\n",
        "plt.plot(acc[:95], label='Training Accuracy')\n",
        "plt.plot(val_acc[:95], label='Validation Accuracy')\n",
        "# plt.ylim([0.7, 1])\n",
        "plt.plot([initial_epochs,initial_epochs], plt.ylim(), label='Start Fine Tuning')\n",
        "plt.plot([second_tune,second_tune], plt.ylim(), label='Second Tuning')\n",
        "plt.plot([third_tune,third_tune], plt.ylim(), label='Third Tuning')\n",
        "plt.plot([fourth_tune,fourth_tune], plt.ylim(), label='Fourth Tuning')\n",
        "# plt.plot([fifth_tune,fifth_tune], plt.ylim(), label='Fifth Tuning')\n",
        "plt.legend(loc='lower right')\n",
        "plt.title('Training and Validation Accuracy')\n",
        "plt.grid()\n",
        "\n",
        "plt.subplot(2, 1, 2)\n",
        "plt.plot(loss[:95], label='Training Loss')\n",
        "plt.plot(val_loss[:95], label='Validation Loss')\n",
        "# plt.ylim([0, 0.8])\n",
        "plt.plot([initial_epochs,initial_epochs], plt.ylim(), label='Start Fine Tuning')\n",
        "plt.plot([second_tune,second_tune], plt.ylim(), label='Second Tuning')\n",
        "plt.plot([third_tune,third_tune], plt.ylim(), label='Third Tuning')\n",
        "plt.plot([fourth_tune,fourth_tune], plt.ylim(), label='Fourth Tuning')\n",
        "# plt.plot([fifth_tune,fifth_tune], plt.ylim(), label='Fifth Tuning')\n",
        "plt.legend(loc='upper right')\n",
        "plt.title('Training and Validation Loss')\n",
        "plt.xlabel('epoch')\n",
        "plt.grid()\n",
        "plt.show()"
      ],
      "execution_count": 73,
      "outputs": [
        {
          "output_type": "display_data",
          "data": {
            "image/png": "[encoded data removed]",
            "text/plain": [
              "<Figure size 864x864 with 2 Axes>"
            ]
          },
          "metadata": {
            "tags": [],
            "needs_background": "light"
          }
        }
      ]
    },
    {
      "cell_type": "code",
      "metadata": {
        "id": "TKaIJW3urpYS",
        "colab_type": "code",
        "colab": {}
      },
      "source": [
        "for lyr in base_model.layers[-84:]:\n",
        "    lyr.trainable=True"
      ],
      "execution_count": 51,
      "outputs": []
    },
    {
      "cell_type": "code",
      "metadata": {
        "id": "ZJDx5xFnGM7j",
        "colab_type": "code",
        "colab": {}
      },
      "source": [
        "for lyr in base_model.layers[-100:]:\n",
        "    lyr.trainable=True"
      ],
      "execution_count": 56,
      "outputs": []
    },
    {
      "cell_type": "code",
      "metadata": {
        "id": "8O33WlGIG3y1",
        "colab_type": "code",
        "colab": {}
      },
      "source": [
        "for lyr in base_model.layers[-132:]:\n",
        "    lyr.trainable=True"
      ],
      "execution_count": 61,
      "outputs": []
    },
    {
      "cell_type": "code",
      "metadata": {
        "id": "OmxLOcit1j-C",
        "colab_type": "code",
        "colab": {}
      },
      "source": [
        "for lyr in base_model.layers:\n",
        "    lyr.trainable=True"
      ],
      "execution_count": 66,
      "outputs": []
    },
    {
      "cell_type": "code",
      "metadata": {
        "id": "OVP5kAgjY2jS",
        "colab_type": "code",
        "colab": {
          "base_uri": "https://localhost:8080/",
          "height": 156
        },
        "outputId": "79f2ebde-b735-45d8-b8e9-f6050774c926"
      },
      "source": [
        "model.save(\"/content/drive/My Drive/non_sig_model_0_75_-1to1\")"
      ],
      "execution_count": 98,
      "outputs": [
        {
          "output_type": "stream",
          "text": [
            "WARNING:tensorflow:From /usr/local/lib/python3.6/dist-packages/tensorflow/python/training/tracking/tracking.py:111: Model.state_updates (from tensorflow.python.keras.engine.training) is deprecated and will be removed in a future version.\n",
            "Instructions for updating:\n",
            "This property should not be used in TensorFlow 2.0, as updates are applied automatically.\n",
            "WARNING:tensorflow:From /usr/local/lib/python3.6/dist-packages/tensorflow/python/training/tracking/tracking.py:111: Layer.updates (from tensorflow.python.keras.engine.base_layer) is deprecated and will be removed in a future version.\n",
            "Instructions for updating:\n",
            "This property should not be used in TensorFlow 2.0, as updates are applied automatically.\n",
            "INFO:tensorflow:Assets written to: /content/drive/My Drive/non_sig_model_0_75_-1to1/assets\n"
          ],
          "name": "stdout"
        }
      ]
    },
    {
      "cell_type": "code",
      "metadata": {
        "id": "PfHtYxZMTyy9",
        "colab_type": "code",
        "colab": {}
      },
      "source": [
        "import os\n",
        "import random"
      ],
      "execution_count": 75,
      "outputs": []
    },
    {
      "cell_type": "code",
      "metadata": {
        "id": "gRX1Yc3Cn0C5",
        "colab_type": "code",
        "colab": {}
      },
      "source": [
        "def sigmoid(x):\n",
        "    return 1.0 / (1 + np.exp(-x))"
      ],
      "execution_count": 92,
      "outputs": []
    },
    {
      "cell_type": "code",
      "metadata": {
        "id": "z35bZ62sYEHl",
        "colab_type": "code",
        "colab": {}
      },
      "source": [
        "TDIR = \"garbage_dataset/train/\"\n",
        "tsfiles = os.listdir(TDIR)\n",
        "samples = random.sample(tsfiles,20)\n",
        "samples = tsfiles[:100]\n",
        "for fp in samples:\n",
        "    img = cv2.imread(TDIR+fp)\n",
        "    try:\n",
        "        img = cv2.resize(img, (IMG_HEIGHT, IMG_WIDTH))\n",
        "    except:\n",
        "        continue\n",
        "    img = cv2.cvtColor(img,cv2.COLOR_BGR2RGB).astype(np.float32)\n",
        "    img = img/127.5 - 1\n",
        "    pred = model.predict(np.expand_dims(img,0)).squeeze()\n",
        "    # print(pred.max())\n",
        "    pred[pred<2.5] = -10\n",
        "    pred = sigmoid(pred)\n",
        "    mask = cv2.resize(pred, img.shape[1::-1])\n",
        "    plt.figure(figsize=(10,10))\n",
        "    plt.axis('off')\n",
        "    plt.imshow((img+1)/2)\n",
        "    # plt.show()\n",
        "    plt.imshow(mask, alpha=0.4)\n",
        "    plt.savefig(\"/content/drive/My Drive/detect_out/out_\"+fp, bbox_inches='tight')\n",
        "    # plt.show()\n",
        "    plt.close()"
      ],
      "execution_count": 101,
      "outputs": []
    },
    {
      "cell_type": "code",
      "metadata": {
        "id": "Tcaaofj7oCQa",
        "colab_type": "code",
        "colab": {}
      },
      "source": [
        ""
      ],
      "execution_count": null,
      "outputs": []
    }
  ]
}