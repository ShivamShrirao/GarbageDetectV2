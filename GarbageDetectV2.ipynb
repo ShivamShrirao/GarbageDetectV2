{
  "nbformat": 4,
  "nbformat_minor": 0,
  "metadata": {
    "colab": {
      "name": "GarbageDetectV2_works.ipynb",
      "provenance": [],
      "collapsed_sections": []
    },
    "kernelspec": {
      "name": "python3",
      "display_name": "Python 3"
    },
    "accelerator": "GPU"
  },
  "cells": [
    {
      "cell_type": "code",
      "metadata": {
        "id": "jPSkk_OHaipy",
        "colab_type": "code",
        "colab": {
          "base_uri": "https://localhost:8080/",
          "height": 357
        },
        "outputId": "ece39c02-f393-4c13-82fb-f41c5c0d7c8d"
      },
      "source": [
        "!nvidia-smi"
      ],
      "execution_count": 2,
      "outputs": [
        {
          "output_type": "stream",
          "text": [
            "Sat Aug  1 17:26:39 2020       \n",
            "+-----------------------------------------------------------------------------+\n",
            "| NVIDIA-SMI 450.57       Driver Version: 418.67       CUDA Version: 10.1     |\n",
            "|-------------------------------+----------------------+----------------------+\n",
            "| GPU  Name        Persistence-M| Bus-Id        Disp.A | Volatile Uncorr. ECC |\n",
            "| Fan  Temp  Perf  Pwr:Usage/Cap|         Memory-Usage | GPU-Util  Compute M. |\n",
            "|                               |                      |               MIG M. |\n",
            "|===============================+======================+======================|\n",
            "|   0  Tesla T4            Off  | 00000000:00:04.0 Off |                    0 |\n",
            "| N/A   40C    P8     9W /  70W |      0MiB / 15079MiB |      0%      Default |\n",
            "|                               |                      |                 ERR! |\n",
            "+-------------------------------+----------------------+----------------------+\n",
            "                                                                               \n",
            "+-----------------------------------------------------------------------------+\n",
            "| Processes:                                                                  |\n",
            "|  GPU   GI   CI        PID   Type   Process name                  GPU Memory |\n",
            "|        ID   ID                                                   Usage      |\n",
            "|=============================================================================|\n",
            "|  No running processes found                                                 |\n",
            "+-----------------------------------------------------------------------------+\n"
          ],
          "name": "stdout"
        }
      ]
    },
    {
      "cell_type": "code",
      "metadata": {
        "id": "1a0NutvTWITU",
        "colab_type": "code",
        "colab": {
          "base_uri": "https://localhost:8080/",
          "height": 68
        },
        "outputId": "191c2ffe-116c-4f4b-80e9-3b084600fd2b"
      },
      "source": [
        "!pip install -U tensorflow -q"
      ],
      "execution_count": 3,
      "outputs": [
        {
          "output_type": "stream",
          "text": [
            "\u001b[K     |████████████████████████████████| 320.4MB 58kB/s \n",
            "\u001b[K     |████████████████████████████████| 460kB 56.8MB/s \n",
            "\u001b[K     |████████████████████████████████| 6.8MB 57.2MB/s \n",
            "\u001b[?25h"
          ],
          "name": "stdout"
        }
      ]
    },
    {
      "cell_type": "code",
      "metadata": {
        "id": "MwmMwqABeGYe",
        "colab_type": "code",
        "colab": {
          "base_uri": "https://localhost:8080/",
          "height": 51
        },
        "outputId": "bce4052b-fcaa-4290-b324-73777d58c341"
      },
      "source": [
        "!pip uninstall keras-applications --yes"
      ],
      "execution_count": 4,
      "outputs": [
        {
          "output_type": "stream",
          "text": [
            "Uninstalling Keras-Applications-1.0.8:\n",
            "  Successfully uninstalled Keras-Applications-1.0.8\n"
          ],
          "name": "stdout"
        }
      ]
    },
    {
      "cell_type": "code",
      "metadata": {
        "id": "Z5OcePAFeO2D",
        "colab_type": "code",
        "colab": {
          "base_uri": "https://localhost:8080/",
          "height": 258
        },
        "outputId": "1146035e-340c-44d8-a98c-a7955949ea1c"
      },
      "source": [
        "!pip install git+https://github.com/keras-team/keras-applications.git@master"
      ],
      "execution_count": 5,
      "outputs": [
        {
          "output_type": "stream",
          "text": [
            "Collecting git+https://github.com/keras-team/keras-applications.git@master\n",
            "  Cloning https://github.com/keras-team/keras-applications.git (to revision master) to /tmp/pip-req-build-znux40ll\n",
            "  Running command git clone -q https://github.com/keras-team/keras-applications.git /tmp/pip-req-build-znux40ll\n",
            "Requirement already satisfied: numpy>=1.9.1 in /usr/local/lib/python3.6/dist-packages (from Keras-Applications==1.0.8) (1.18.5)\n",
            "Requirement already satisfied: h5py in /usr/local/lib/python3.6/dist-packages (from Keras-Applications==1.0.8) (2.10.0)\n",
            "Requirement already satisfied: six in /usr/local/lib/python3.6/dist-packages (from h5py->Keras-Applications==1.0.8) (1.15.0)\n",
            "Building wheels for collected packages: Keras-Applications\n",
            "  Building wheel for Keras-Applications (setup.py) ... \u001b[?25l\u001b[?25hdone\n",
            "  Created wheel for Keras-Applications: filename=Keras_Applications-1.0.8-cp36-none-any.whl size=62000 sha256=dbf18275f04671f9b03689bb0f1ae058caac953921e974b01582cfd9362d91f5\n",
            "  Stored in directory: /tmp/pip-ephem-wheel-cache-2nhl7uvj/wheels/f8/3c/48/007f19c86cc5d5f276a748f003a63bc19558539eab93afb545\n",
            "Successfully built Keras-Applications\n",
            "Installing collected packages: Keras-Applications\n",
            "Successfully installed Keras-Applications-1.0.8\n"
          ],
          "name": "stdout"
        }
      ]
    },
    {
      "cell_type": "code",
      "metadata": {
        "id": "NtFrg6FQex26",
        "colab_type": "code",
        "colab": {
          "base_uri": "https://localhost:8080/",
          "height": 34
        },
        "outputId": "d0ab9020-9733-4a0c-e072-7d100e49dd39"
      },
      "source": [
        "from keras.applications import keras_applications\n",
        "from keras_applications import mobilenet_v3"
      ],
      "execution_count": 6,
      "outputs": [
        {
          "output_type": "stream",
          "text": [
            "Using TensorFlow backend.\n"
          ],
          "name": "stderr"
        }
      ]
    },
    {
      "cell_type": "code",
      "metadata": {
        "id": "wiFobbnftK9f",
        "colab_type": "code",
        "colab": {}
      },
      "source": [
        "import tensorflow as tf\n",
        "import numpy as np"
      ],
      "execution_count": 7,
      "outputs": []
    },
    {
      "cell_type": "code",
      "metadata": {
        "id": "hG6mI3pMLxC_",
        "colab_type": "code",
        "colab": {}
      },
      "source": [
        "import cv2\n",
        "import matplotlib.pyplot as plt"
      ],
      "execution_count": 8,
      "outputs": []
    },
    {
      "cell_type": "code",
      "metadata": {
        "id": "nRHVycCLgFzY",
        "colab_type": "code",
        "colab": {
          "base_uri": "https://localhost:8080/",
          "height": 105
        },
        "outputId": "f4e6e544-c43b-43de-8834-4038cd4b7f24"
      },
      "source": [
        "base_model = mobilenet_v3.MobileNetV3Small(input_shape=(None, None, 3),\n",
        "                              alpha=0.75,\n",
        "                              minimalistic=False,\n",
        "                              include_top=False,\n",
        "                              weights=\"imagenet\",\n",
        "                              backend=tf.keras.backend,\n",
        "                              layers=tf.keras.layers,\n",
        "                              models=tf.keras.models,\n",
        "                              utils=tf.keras.utils\n",
        "                              )"
      ],
      "execution_count": 9,
      "outputs": [
        {
          "output_type": "stream",
          "text": [
            "/usr/local/lib/python3.6/dist-packages/keras_applications/mobilenet_v3.py:348: UserWarning: `input_shape` is undefined or non-square, or `rows` is not 224. Weights for input shape (224, 224) will be loaded as the default.\n",
            "  warnings.warn('`input_shape` is undefined or non-square, '\n"
          ],
          "name": "stderr"
        },
        {
          "output_type": "stream",
          "text": [
            "Downloading data from https://github.com/DrSlink/mobilenet_v3_keras/releases/download/v1.0/weights_mobilenet_v3_small_224_0.75_float_no_top.h5\n",
            "2850816/2843184 [==============================] - 0s 0us/step\n"
          ],
          "name": "stdout"
        }
      ]
    },
    {
      "cell_type": "code",
      "metadata": {
        "id": "x_alOIsZXJ84",
        "colab_type": "code",
        "colab": {}
      },
      "source": [
        "base_model.trainable = False"
      ],
      "execution_count": 10,
      "outputs": []
    },
    {
      "cell_type": "code",
      "metadata": {
        "id": "SoAcnatitiOm",
        "colab_type": "code",
        "colab": {
          "base_uri": "https://localhost:8080/",
          "height": 34
        },
        "outputId": "369d9540-4c35-4ab2-c12f-113f4e6b3d70"
      },
      "source": [
        "out = base_model.predict(np.random.randn(1,320,320,3))\n",
        "out.shape"
      ],
      "execution_count": 11,
      "outputs": [
        {
          "output_type": "execute_result",
          "data": {
            "text/plain": [
              "(1, 10, 10, 432)"
            ]
          },
          "metadata": {
            "tags": []
          },
          "execution_count": 11
        }
      ]
    },
    {
      "cell_type": "code",
      "metadata": {
        "id": "TMsKDfD6YITL",
        "colab_type": "code",
        "colab": {}
      },
      "source": [
        "num_classes = 1"
      ],
      "execution_count": 12,
      "outputs": []
    },
    {
      "cell_type": "code",
      "metadata": {
        "id": "BRfOUXnr2dJr",
        "colab_type": "code",
        "colab": {
          "base_uri": "https://localhost:8080/",
          "height": 34
        },
        "outputId": "89d691a8-0b7b-45f5-9568-1baa7985f556"
      },
      "source": [
        "sf = tf.keras.layers.Conv2D(128, kernel_size=1, strides=1)(base_model.output) # try batch norm\n",
        "sf = tf.keras.layers.Activation(mobilenet_v3.hard_swish)(sf)\n",
        "sf = tf.keras.layers.Conv2DTranspose(64, kernel_size=3, strides=2, padding=\"same\")(sf)\n",
        "sf = tf.keras.layers.Activation(mobilenet_v3.hard_swish)(sf)\n",
        "sf = tf.keras.layers.Conv2D(num_classes, kernel_size=1, strides=1)(sf)\n",
        "sf = tf.keras.layers.Activation('sigmoid')(sf)\n",
        "sf.shape"
      ],
      "execution_count": 13,
      "outputs": [
        {
          "output_type": "execute_result",
          "data": {
            "text/plain": [
              "TensorShape([None, None, None, 1])"
            ]
          },
          "metadata": {
            "tags": []
          },
          "execution_count": 13
        }
      ]
    },
    {
      "cell_type": "code",
      "metadata": {
        "id": "0-5oxuNEzE-U",
        "colab_type": "code",
        "colab": {}
      },
      "source": [
        "model = tf.keras.models.Model(base_model.input, outputs=sf)"
      ],
      "execution_count": 14,
      "outputs": []
    },
    {
      "cell_type": "code",
      "metadata": {
        "id": "4pw8jD4pzF4t",
        "colab_type": "code",
        "colab": {
          "base_uri": "https://localhost:8080/",
          "height": 1000
        },
        "outputId": "5e9d793e-06cd-4251-8561-a98dbb60a65f"
      },
      "source": [
        "model.summary()"
      ],
      "execution_count": 15,
      "outputs": [
        {
          "output_type": "stream",
          "text": [
            "Model: \"functional_1\"\n",
            "__________________________________________________________________________________________________\n",
            "Layer (type)                    Output Shape         Param #     Connected to                     \n",
            "==================================================================================================\n",
            "input_1 (InputLayer)            [(None, None, None,  0                                            \n",
            "__________________________________________________________________________________________________\n",
            "Conv_pad (ZeroPadding2D)        (None, None, None, 3 0           input_1[0][0]                    \n",
            "__________________________________________________________________________________________________\n",
            "Conv (Conv2D)                   (None, None, None, 1 432         Conv_pad[0][0]                   \n",
            "__________________________________________________________________________________________________\n",
            "Conv/BatchNorm (BatchNormalizat (None, None, None, 1 64          Conv[0][0]                       \n",
            "__________________________________________________________________________________________________\n",
            "activation (Activation)         (None, None, None, 1 0           Conv/BatchNorm[0][0]             \n",
            "__________________________________________________________________________________________________\n",
            "expanded_conv/depthwise/pad (Ze (None, None, None, 1 0           activation[0][0]                 \n",
            "__________________________________________________________________________________________________\n",
            "expanded_conv/depthwise (Depthw (None, None, None, 1 144         expanded_conv/depthwise/pad[0][0]\n",
            "__________________________________________________________________________________________________\n",
            "expanded_conv/depthwise/BatchNo (None, None, None, 1 64          expanded_conv/depthwise[0][0]    \n",
            "__________________________________________________________________________________________________\n",
            "activation_1 (Activation)       (None, None, None, 1 0           expanded_conv/depthwise/BatchNorm\n",
            "__________________________________________________________________________________________________\n",
            "expanded_conv/squeeze_excite/Av (None, 16)           0           activation_1[0][0]               \n",
            "__________________________________________________________________________________________________\n",
            "reshape (Reshape)               (None, 1, 1, 16)     0           expanded_conv/squeeze_excite/AvgP\n",
            "__________________________________________________________________________________________________\n",
            "expanded_conv/squeeze_excite/Co (None, 1, 1, 8)      136         reshape[0][0]                    \n",
            "__________________________________________________________________________________________________\n",
            "expanded_conv/squeeze_excite/Re (None, 1, 1, 8)      0           expanded_conv/squeeze_excite/Conv\n",
            "__________________________________________________________________________________________________\n",
            "expanded_conv/squeeze_excite/Co (None, 1, 1, 16)     144         expanded_conv/squeeze_excite/Relu\n",
            "__________________________________________________________________________________________________\n",
            "activation_2 (Activation)       (None, 1, 1, 16)     0           expanded_conv/squeeze_excite/Conv\n",
            "__________________________________________________________________________________________________\n",
            "expanded_conv/squeeze_excite/Mu (None, None, None, 1 0           activation_1[0][0]               \n",
            "                                                                 activation_2[0][0]               \n",
            "__________________________________________________________________________________________________\n",
            "expanded_conv/project (Conv2D)  (None, None, None, 1 256         expanded_conv/squeeze_excite/Mul[\n",
            "__________________________________________________________________________________________________\n",
            "expanded_conv/project/BatchNorm (None, None, None, 1 64          expanded_conv/project[0][0]      \n",
            "__________________________________________________________________________________________________\n",
            "expanded_conv_1/expand (Conv2D) (None, None, None, 7 1152        expanded_conv/project/BatchNorm[0\n",
            "__________________________________________________________________________________________________\n",
            "expanded_conv_1/expand/BatchNor (None, None, None, 7 288         expanded_conv_1/expand[0][0]     \n",
            "__________________________________________________________________________________________________\n",
            "activation_3 (Activation)       (None, None, None, 7 0           expanded_conv_1/expand/BatchNorm[\n",
            "__________________________________________________________________________________________________\n",
            "expanded_conv_1/depthwise/pad ( (None, None, None, 7 0           activation_3[0][0]               \n",
            "__________________________________________________________________________________________________\n",
            "expanded_conv_1/depthwise (Dept (None, None, None, 7 648         expanded_conv_1/depthwise/pad[0][\n",
            "__________________________________________________________________________________________________\n",
            "expanded_conv_1/depthwise/Batch (None, None, None, 7 288         expanded_conv_1/depthwise[0][0]  \n",
            "__________________________________________________________________________________________________\n",
            "activation_4 (Activation)       (None, None, None, 7 0           expanded_conv_1/depthwise/BatchNo\n",
            "__________________________________________________________________________________________________\n",
            "expanded_conv_1/project (Conv2D (None, None, None, 2 1728        activation_4[0][0]               \n",
            "__________________________________________________________________________________________________\n",
            "expanded_conv_1/project/BatchNo (None, None, None, 2 96          expanded_conv_1/project[0][0]    \n",
            "__________________________________________________________________________________________________\n",
            "expanded_conv_2/expand (Conv2D) (None, None, None, 8 2112        expanded_conv_1/project/BatchNorm\n",
            "__________________________________________________________________________________________________\n",
            "expanded_conv_2/expand/BatchNor (None, None, None, 8 352         expanded_conv_2/expand[0][0]     \n",
            "__________________________________________________________________________________________________\n",
            "activation_5 (Activation)       (None, None, None, 8 0           expanded_conv_2/expand/BatchNorm[\n",
            "__________________________________________________________________________________________________\n",
            "expanded_conv_2/depthwise (Dept (None, None, None, 8 792         activation_5[0][0]               \n",
            "__________________________________________________________________________________________________\n",
            "expanded_conv_2/depthwise/Batch (None, None, None, 8 352         expanded_conv_2/depthwise[0][0]  \n",
            "__________________________________________________________________________________________________\n",
            "activation_6 (Activation)       (None, None, None, 8 0           expanded_conv_2/depthwise/BatchNo\n",
            "__________________________________________________________________________________________________\n",
            "expanded_conv_2/project (Conv2D (None, None, None, 2 2112        activation_6[0][0]               \n",
            "__________________________________________________________________________________________________\n",
            "expanded_conv_2/project/BatchNo (None, None, None, 2 96          expanded_conv_2/project[0][0]    \n",
            "__________________________________________________________________________________________________\n",
            "expanded_conv_2/Add (Add)       (None, None, None, 2 0           expanded_conv_1/project/BatchNorm\n",
            "                                                                 expanded_conv_2/project/BatchNorm\n",
            "__________________________________________________________________________________________________\n",
            "expanded_conv_3/expand (Conv2D) (None, None, None, 9 2304        expanded_conv_2/Add[0][0]        \n",
            "__________________________________________________________________________________________________\n",
            "expanded_conv_3/expand/BatchNor (None, None, None, 9 384         expanded_conv_3/expand[0][0]     \n",
            "__________________________________________________________________________________________________\n",
            "activation_7 (Activation)       (None, None, None, 9 0           expanded_conv_3/expand/BatchNorm[\n",
            "__________________________________________________________________________________________________\n",
            "expanded_conv_3/depthwise/pad ( (None, None, None, 9 0           activation_7[0][0]               \n",
            "__________________________________________________________________________________________________\n",
            "expanded_conv_3/depthwise (Dept (None, None, None, 9 2400        expanded_conv_3/depthwise/pad[0][\n",
            "__________________________________________________________________________________________________\n",
            "expanded_conv_3/depthwise/Batch (None, None, None, 9 384         expanded_conv_3/depthwise[0][0]  \n",
            "__________________________________________________________________________________________________\n",
            "activation_8 (Activation)       (None, None, None, 9 0           expanded_conv_3/depthwise/BatchNo\n",
            "__________________________________________________________________________________________________\n",
            "expanded_conv_3/squeeze_excite/ (None, 96)           0           activation_8[0][0]               \n",
            "__________________________________________________________________________________________________\n",
            "reshape_1 (Reshape)             (None, 1, 1, 96)     0           expanded_conv_3/squeeze_excite/Av\n",
            "__________________________________________________________________________________________________\n",
            "expanded_conv_3/squeeze_excite/ (None, 1, 1, 24)     2328        reshape_1[0][0]                  \n",
            "__________________________________________________________________________________________________\n",
            "expanded_conv_3/squeeze_excite/ (None, 1, 1, 24)     0           expanded_conv_3/squeeze_excite/Co\n",
            "__________________________________________________________________________________________________\n",
            "expanded_conv_3/squeeze_excite/ (None, 1, 1, 96)     2400        expanded_conv_3/squeeze_excite/Re\n",
            "__________________________________________________________________________________________________\n",
            "activation_9 (Activation)       (None, 1, 1, 96)     0           expanded_conv_3/squeeze_excite/Co\n",
            "__________________________________________________________________________________________________\n",
            "expanded_conv_3/squeeze_excite/ (None, None, None, 9 0           activation_8[0][0]               \n",
            "                                                                 activation_9[0][0]               \n",
            "__________________________________________________________________________________________________\n",
            "expanded_conv_3/project (Conv2D (None, None, None, 3 3072        expanded_conv_3/squeeze_excite/Mu\n",
            "__________________________________________________________________________________________________\n",
            "expanded_conv_3/project/BatchNo (None, None, None, 3 128         expanded_conv_3/project[0][0]    \n",
            "__________________________________________________________________________________________________\n",
            "expanded_conv_4/expand (Conv2D) (None, None, None, 1 6144        expanded_conv_3/project/BatchNorm\n",
            "__________________________________________________________________________________________________\n",
            "expanded_conv_4/expand/BatchNor (None, None, None, 1 768         expanded_conv_4/expand[0][0]     \n",
            "__________________________________________________________________________________________________\n",
            "activation_10 (Activation)      (None, None, None, 1 0           expanded_conv_4/expand/BatchNorm[\n",
            "__________________________________________________________________________________________________\n",
            "expanded_conv_4/depthwise (Dept (None, None, None, 1 4800        activation_10[0][0]              \n",
            "__________________________________________________________________________________________________\n",
            "expanded_conv_4/depthwise/Batch (None, None, None, 1 768         expanded_conv_4/depthwise[0][0]  \n",
            "__________________________________________________________________________________________________\n",
            "activation_11 (Activation)      (None, None, None, 1 0           expanded_conv_4/depthwise/BatchNo\n",
            "__________________________________________________________________________________________________\n",
            "expanded_conv_4/squeeze_excite/ (None, 192)          0           activation_11[0][0]              \n",
            "__________________________________________________________________________________________________\n",
            "reshape_2 (Reshape)             (None, 1, 1, 192)    0           expanded_conv_4/squeeze_excite/Av\n",
            "__________________________________________________________________________________________________\n",
            "expanded_conv_4/squeeze_excite/ (None, 1, 1, 48)     9264        reshape_2[0][0]                  \n",
            "__________________________________________________________________________________________________\n",
            "expanded_conv_4/squeeze_excite/ (None, 1, 1, 48)     0           expanded_conv_4/squeeze_excite/Co\n",
            "__________________________________________________________________________________________________\n",
            "expanded_conv_4/squeeze_excite/ (None, 1, 1, 192)    9408        expanded_conv_4/squeeze_excite/Re\n",
            "__________________________________________________________________________________________________\n",
            "activation_12 (Activation)      (None, 1, 1, 192)    0           expanded_conv_4/squeeze_excite/Co\n",
            "__________________________________________________________________________________________________\n",
            "expanded_conv_4/squeeze_excite/ (None, None, None, 1 0           activation_11[0][0]              \n",
            "                                                                 activation_12[0][0]              \n",
            "__________________________________________________________________________________________________\n",
            "expanded_conv_4/project (Conv2D (None, None, None, 3 6144        expanded_conv_4/squeeze_excite/Mu\n",
            "__________________________________________________________________________________________________\n",
            "expanded_conv_4/project/BatchNo (None, None, None, 3 128         expanded_conv_4/project[0][0]    \n",
            "__________________________________________________________________________________________________\n",
            "expanded_conv_4/Add (Add)       (None, None, None, 3 0           expanded_conv_3/project/BatchNorm\n",
            "                                                                 expanded_conv_4/project/BatchNorm\n",
            "__________________________________________________________________________________________________\n",
            "expanded_conv_5/expand (Conv2D) (None, None, None, 1 6144        expanded_conv_4/Add[0][0]        \n",
            "__________________________________________________________________________________________________\n",
            "expanded_conv_5/expand/BatchNor (None, None, None, 1 768         expanded_conv_5/expand[0][0]     \n",
            "__________________________________________________________________________________________________\n",
            "activation_13 (Activation)      (None, None, None, 1 0           expanded_conv_5/expand/BatchNorm[\n",
            "__________________________________________________________________________________________________\n",
            "expanded_conv_5/depthwise (Dept (None, None, None, 1 4800        activation_13[0][0]              \n",
            "__________________________________________________________________________________________________\n",
            "expanded_conv_5/depthwise/Batch (None, None, None, 1 768         expanded_conv_5/depthwise[0][0]  \n",
            "__________________________________________________________________________________________________\n",
            "activation_14 (Activation)      (None, None, None, 1 0           expanded_conv_5/depthwise/BatchNo\n",
            "__________________________________________________________________________________________________\n",
            "expanded_conv_5/squeeze_excite/ (None, 192)          0           activation_14[0][0]              \n",
            "__________________________________________________________________________________________________\n",
            "reshape_3 (Reshape)             (None, 1, 1, 192)    0           expanded_conv_5/squeeze_excite/Av\n",
            "__________________________________________________________________________________________________\n",
            "expanded_conv_5/squeeze_excite/ (None, 1, 1, 48)     9264        reshape_3[0][0]                  \n",
            "__________________________________________________________________________________________________\n",
            "expanded_conv_5/squeeze_excite/ (None, 1, 1, 48)     0           expanded_conv_5/squeeze_excite/Co\n",
            "__________________________________________________________________________________________________\n",
            "expanded_conv_5/squeeze_excite/ (None, 1, 1, 192)    9408        expanded_conv_5/squeeze_excite/Re\n",
            "__________________________________________________________________________________________________\n",
            "activation_15 (Activation)      (None, 1, 1, 192)    0           expanded_conv_5/squeeze_excite/Co\n",
            "__________________________________________________________________________________________________\n",
            "expanded_conv_5/squeeze_excite/ (None, None, None, 1 0           activation_14[0][0]              \n",
            "                                                                 activation_15[0][0]              \n",
            "__________________________________________________________________________________________________\n",
            "expanded_conv_5/project (Conv2D (None, None, None, 3 6144        expanded_conv_5/squeeze_excite/Mu\n",
            "__________________________________________________________________________________________________\n",
            "expanded_conv_5/project/BatchNo (None, None, None, 3 128         expanded_conv_5/project[0][0]    \n",
            "__________________________________________________________________________________________________\n",
            "expanded_conv_5/Add (Add)       (None, None, None, 3 0           expanded_conv_4/Add[0][0]        \n",
            "                                                                 expanded_conv_5/project/BatchNorm\n",
            "__________________________________________________________________________________________________\n",
            "expanded_conv_6/expand (Conv2D) (None, None, None, 9 3072        expanded_conv_5/Add[0][0]        \n",
            "__________________________________________________________________________________________________\n",
            "expanded_conv_6/expand/BatchNor (None, None, None, 9 384         expanded_conv_6/expand[0][0]     \n",
            "__________________________________________________________________________________________________\n",
            "activation_16 (Activation)      (None, None, None, 9 0           expanded_conv_6/expand/BatchNorm[\n",
            "__________________________________________________________________________________________________\n",
            "expanded_conv_6/depthwise (Dept (None, None, None, 9 2400        activation_16[0][0]              \n",
            "__________________________________________________________________________________________________\n",
            "expanded_conv_6/depthwise/Batch (None, None, None, 9 384         expanded_conv_6/depthwise[0][0]  \n",
            "__________________________________________________________________________________________________\n",
            "activation_17 (Activation)      (None, None, None, 9 0           expanded_conv_6/depthwise/BatchNo\n",
            "__________________________________________________________________________________________________\n",
            "expanded_conv_6/squeeze_excite/ (None, 96)           0           activation_17[0][0]              \n",
            "__________________________________________________________________________________________________\n",
            "reshape_4 (Reshape)             (None, 1, 1, 96)     0           expanded_conv_6/squeeze_excite/Av\n",
            "__________________________________________________________________________________________________\n",
            "expanded_conv_6/squeeze_excite/ (None, 1, 1, 24)     2328        reshape_4[0][0]                  \n",
            "__________________________________________________________________________________________________\n",
            "expanded_conv_6/squeeze_excite/ (None, 1, 1, 24)     0           expanded_conv_6/squeeze_excite/Co\n",
            "__________________________________________________________________________________________________\n",
            "expanded_conv_6/squeeze_excite/ (None, 1, 1, 96)     2400        expanded_conv_6/squeeze_excite/Re\n",
            "__________________________________________________________________________________________________\n",
            "activation_18 (Activation)      (None, 1, 1, 96)     0           expanded_conv_6/squeeze_excite/Co\n",
            "__________________________________________________________________________________________________\n",
            "expanded_conv_6/squeeze_excite/ (None, None, None, 9 0           activation_17[0][0]              \n",
            "                                                                 activation_18[0][0]              \n",
            "__________________________________________________________________________________________________\n",
            "expanded_conv_6/project (Conv2D (None, None, None, 4 3840        expanded_conv_6/squeeze_excite/Mu\n",
            "__________________________________________________________________________________________________\n",
            "expanded_conv_6/project/BatchNo (None, None, None, 4 160         expanded_conv_6/project[0][0]    \n",
            "__________________________________________________________________________________________________\n",
            "expanded_conv_7/expand (Conv2D) (None, None, None, 1 4800        expanded_conv_6/project/BatchNorm\n",
            "__________________________________________________________________________________________________\n",
            "expanded_conv_7/expand/BatchNor (None, None, None, 1 480         expanded_conv_7/expand[0][0]     \n",
            "__________________________________________________________________________________________________\n",
            "activation_19 (Activation)      (None, None, None, 1 0           expanded_conv_7/expand/BatchNorm[\n",
            "__________________________________________________________________________________________________\n",
            "expanded_conv_7/depthwise (Dept (None, None, None, 1 3000        activation_19[0][0]              \n",
            "__________________________________________________________________________________________________\n",
            "expanded_conv_7/depthwise/Batch (None, None, None, 1 480         expanded_conv_7/depthwise[0][0]  \n",
            "__________________________________________________________________________________________________\n",
            "activation_20 (Activation)      (None, None, None, 1 0           expanded_conv_7/depthwise/BatchNo\n",
            "__________________________________________________________________________________________________\n",
            "expanded_conv_7/squeeze_excite/ (None, 120)          0           activation_20[0][0]              \n",
            "__________________________________________________________________________________________________\n",
            "reshape_5 (Reshape)             (None, 1, 1, 120)    0           expanded_conv_7/squeeze_excite/Av\n",
            "__________________________________________________________________________________________________\n",
            "expanded_conv_7/squeeze_excite/ (None, 1, 1, 32)     3872        reshape_5[0][0]                  \n",
            "__________________________________________________________________________________________________\n",
            "expanded_conv_7/squeeze_excite/ (None, 1, 1, 32)     0           expanded_conv_7/squeeze_excite/Co\n",
            "__________________________________________________________________________________________________\n",
            "expanded_conv_7/squeeze_excite/ (None, 1, 1, 120)    3960        expanded_conv_7/squeeze_excite/Re\n",
            "__________________________________________________________________________________________________\n",
            "activation_21 (Activation)      (None, 1, 1, 120)    0           expanded_conv_7/squeeze_excite/Co\n",
            "__________________________________________________________________________________________________\n",
            "expanded_conv_7/squeeze_excite/ (None, None, None, 1 0           activation_20[0][0]              \n",
            "                                                                 activation_21[0][0]              \n",
            "__________________________________________________________________________________________________\n",
            "expanded_conv_7/project (Conv2D (None, None, None, 4 4800        expanded_conv_7/squeeze_excite/Mu\n",
            "__________________________________________________________________________________________________\n",
            "expanded_conv_7/project/BatchNo (None, None, None, 4 160         expanded_conv_7/project[0][0]    \n",
            "__________________________________________________________________________________________________\n",
            "expanded_conv_7/Add (Add)       (None, None, None, 4 0           expanded_conv_6/project/BatchNorm\n",
            "                                                                 expanded_conv_7/project/BatchNorm\n",
            "__________________________________________________________________________________________________\n",
            "expanded_conv_8/expand (Conv2D) (None, None, None, 2 9600        expanded_conv_7/Add[0][0]        \n",
            "__________________________________________________________________________________________________\n",
            "expanded_conv_8/expand/BatchNor (None, None, None, 2 960         expanded_conv_8/expand[0][0]     \n",
            "__________________________________________________________________________________________________\n",
            "activation_22 (Activation)      (None, None, None, 2 0           expanded_conv_8/expand/BatchNorm[\n",
            "__________________________________________________________________________________________________\n",
            "expanded_conv_8/depthwise/pad ( (None, None, None, 2 0           activation_22[0][0]              \n",
            "__________________________________________________________________________________________________\n",
            "expanded_conv_8/depthwise (Dept (None, None, None, 2 6000        expanded_conv_8/depthwise/pad[0][\n",
            "__________________________________________________________________________________________________\n",
            "expanded_conv_8/depthwise/Batch (None, None, None, 2 960         expanded_conv_8/depthwise[0][0]  \n",
            "__________________________________________________________________________________________________\n",
            "activation_23 (Activation)      (None, None, None, 2 0           expanded_conv_8/depthwise/BatchNo\n",
            "__________________________________________________________________________________________________\n",
            "expanded_conv_8/squeeze_excite/ (None, 240)          0           activation_23[0][0]              \n",
            "__________________________________________________________________________________________________\n",
            "reshape_6 (Reshape)             (None, 1, 1, 240)    0           expanded_conv_8/squeeze_excite/Av\n",
            "__________________________________________________________________________________________________\n",
            "expanded_conv_8/squeeze_excite/ (None, 1, 1, 64)     15424       reshape_6[0][0]                  \n",
            "__________________________________________________________________________________________________\n",
            "expanded_conv_8/squeeze_excite/ (None, 1, 1, 64)     0           expanded_conv_8/squeeze_excite/Co\n",
            "__________________________________________________________________________________________________\n",
            "expanded_conv_8/squeeze_excite/ (None, 1, 1, 240)    15600       expanded_conv_8/squeeze_excite/Re\n",
            "__________________________________________________________________________________________________\n",
            "activation_24 (Activation)      (None, 1, 1, 240)    0           expanded_conv_8/squeeze_excite/Co\n",
            "__________________________________________________________________________________________________\n",
            "expanded_conv_8/squeeze_excite/ (None, None, None, 2 0           activation_23[0][0]              \n",
            "                                                                 activation_24[0][0]              \n",
            "__________________________________________________________________________________________________\n",
            "expanded_conv_8/project (Conv2D (None, None, None, 7 17280       expanded_conv_8/squeeze_excite/Mu\n",
            "__________________________________________________________________________________________________\n",
            "expanded_conv_8/project/BatchNo (None, None, None, 7 288         expanded_conv_8/project[0][0]    \n",
            "__________________________________________________________________________________________________\n",
            "expanded_conv_9/expand (Conv2D) (None, None, None, 4 31104       expanded_conv_8/project/BatchNorm\n",
            "__________________________________________________________________________________________________\n",
            "expanded_conv_9/expand/BatchNor (None, None, None, 4 1728        expanded_conv_9/expand[0][0]     \n",
            "__________________________________________________________________________________________________\n",
            "activation_25 (Activation)      (None, None, None, 4 0           expanded_conv_9/expand/BatchNorm[\n",
            "__________________________________________________________________________________________________\n",
            "expanded_conv_9/depthwise (Dept (None, None, None, 4 10800       activation_25[0][0]              \n",
            "__________________________________________________________________________________________________\n",
            "expanded_conv_9/depthwise/Batch (None, None, None, 4 1728        expanded_conv_9/depthwise[0][0]  \n",
            "__________________________________________________________________________________________________\n",
            "activation_26 (Activation)      (None, None, None, 4 0           expanded_conv_9/depthwise/BatchNo\n",
            "__________________________________________________________________________________________________\n",
            "expanded_conv_9/squeeze_excite/ (None, 432)          0           activation_26[0][0]              \n",
            "__________________________________________________________________________________________________\n",
            "reshape_7 (Reshape)             (None, 1, 1, 432)    0           expanded_conv_9/squeeze_excite/Av\n",
            "__________________________________________________________________________________________________\n",
            "expanded_conv_9/squeeze_excite/ (None, 1, 1, 112)    48496       reshape_7[0][0]                  \n",
            "__________________________________________________________________________________________________\n",
            "expanded_conv_9/squeeze_excite/ (None, 1, 1, 112)    0           expanded_conv_9/squeeze_excite/Co\n",
            "__________________________________________________________________________________________________\n",
            "expanded_conv_9/squeeze_excite/ (None, 1, 1, 432)    48816       expanded_conv_9/squeeze_excite/Re\n",
            "__________________________________________________________________________________________________\n",
            "activation_27 (Activation)      (None, 1, 1, 432)    0           expanded_conv_9/squeeze_excite/Co\n",
            "__________________________________________________________________________________________________\n",
            "expanded_conv_9/squeeze_excite/ (None, None, None, 4 0           activation_26[0][0]              \n",
            "                                                                 activation_27[0][0]              \n",
            "__________________________________________________________________________________________________\n",
            "expanded_conv_9/project (Conv2D (None, None, None, 7 31104       expanded_conv_9/squeeze_excite/Mu\n",
            "__________________________________________________________________________________________________\n",
            "expanded_conv_9/project/BatchNo (None, None, None, 7 288         expanded_conv_9/project[0][0]    \n",
            "__________________________________________________________________________________________________\n",
            "expanded_conv_9/Add (Add)       (None, None, None, 7 0           expanded_conv_8/project/BatchNorm\n",
            "                                                                 expanded_conv_9/project/BatchNorm\n",
            "__________________________________________________________________________________________________\n",
            "expanded_conv_10/expand (Conv2D (None, None, None, 4 31104       expanded_conv_9/Add[0][0]        \n",
            "__________________________________________________________________________________________________\n",
            "expanded_conv_10/expand/BatchNo (None, None, None, 4 1728        expanded_conv_10/expand[0][0]    \n",
            "__________________________________________________________________________________________________\n",
            "activation_28 (Activation)      (None, None, None, 4 0           expanded_conv_10/expand/BatchNorm\n",
            "__________________________________________________________________________________________________\n",
            "expanded_conv_10/depthwise (Dep (None, None, None, 4 10800       activation_28[0][0]              \n",
            "__________________________________________________________________________________________________\n",
            "expanded_conv_10/depthwise/Batc (None, None, None, 4 1728        expanded_conv_10/depthwise[0][0] \n",
            "__________________________________________________________________________________________________\n",
            "activation_29 (Activation)      (None, None, None, 4 0           expanded_conv_10/depthwise/BatchN\n",
            "__________________________________________________________________________________________________\n",
            "expanded_conv_10/squeeze_excite (None, 432)          0           activation_29[0][0]              \n",
            "__________________________________________________________________________________________________\n",
            "reshape_8 (Reshape)             (None, 1, 1, 432)    0           expanded_conv_10/squeeze_excite/A\n",
            "__________________________________________________________________________________________________\n",
            "expanded_conv_10/squeeze_excite (None, 1, 1, 112)    48496       reshape_8[0][0]                  \n",
            "__________________________________________________________________________________________________\n",
            "expanded_conv_10/squeeze_excite (None, 1, 1, 112)    0           expanded_conv_10/squeeze_excite/C\n",
            "__________________________________________________________________________________________________\n",
            "expanded_conv_10/squeeze_excite (None, 1, 1, 432)    48816       expanded_conv_10/squeeze_excite/R\n",
            "__________________________________________________________________________________________________\n",
            "activation_30 (Activation)      (None, 1, 1, 432)    0           expanded_conv_10/squeeze_excite/C\n",
            "__________________________________________________________________________________________________\n",
            "expanded_conv_10/squeeze_excite (None, None, None, 4 0           activation_29[0][0]              \n",
            "                                                                 activation_30[0][0]              \n",
            "__________________________________________________________________________________________________\n",
            "expanded_conv_10/project (Conv2 (None, None, None, 7 31104       expanded_conv_10/squeeze_excite/M\n",
            "__________________________________________________________________________________________________\n",
            "expanded_conv_10/project/BatchN (None, None, None, 7 288         expanded_conv_10/project[0][0]   \n",
            "__________________________________________________________________________________________________\n",
            "expanded_conv_10/Add (Add)      (None, None, None, 7 0           expanded_conv_9/Add[0][0]        \n",
            "                                                                 expanded_conv_10/project/BatchNor\n",
            "__________________________________________________________________________________________________\n",
            "Conv_1 (Conv2D)                 (None, None, None, 4 31104       expanded_conv_10/Add[0][0]       \n",
            "__________________________________________________________________________________________________\n",
            "Conv_1/BatchNorm (BatchNormaliz (None, None, None, 4 1728        Conv_1[0][0]                     \n",
            "__________________________________________________________________________________________________\n",
            "activation_31 (Activation)      (None, None, None, 4 0           Conv_1/BatchNorm[0][0]           \n",
            "__________________________________________________________________________________________________\n",
            "conv2d (Conv2D)                 (None, None, None, 1 55424       activation_31[0][0]              \n",
            "__________________________________________________________________________________________________\n",
            "activation_32 (Activation)      (None, None, None, 1 0           conv2d[0][0]                     \n",
            "__________________________________________________________________________________________________\n",
            "conv2d_transpose (Conv2DTranspo (None, None, None, 6 73792       activation_32[0][0]              \n",
            "__________________________________________________________________________________________________\n",
            "activation_33 (Activation)      (None, None, None, 6 0           conv2d_transpose[0][0]           \n",
            "__________________________________________________________________________________________________\n",
            "conv2d_1 (Conv2D)               (None, None, None, 1 65          activation_33[0][0]              \n",
            "__________________________________________________________________________________________________\n",
            "activation_34 (Activation)      (None, None, None, 1 0           conv2d_1[0][0]                   \n",
            "==================================================================================================\n",
            "Total params: 712,441\n",
            "Trainable params: 129,281\n",
            "Non-trainable params: 583,160\n",
            "__________________________________________________________________________________________________\n"
          ],
          "name": "stdout"
        }
      ]
    },
    {
      "cell_type": "code",
      "metadata": {
        "id": "nptz1axcatKZ",
        "colab_type": "code",
        "colab": {}
      },
      "source": [
        "base_learning_rate = 0.001\n",
        "model.compile(optimizer=tf.keras.optimizers.Adam(lr=base_learning_rate),\n",
        "              loss=tf.keras.losses.BinaryCrossentropy(),\n",
        "              metrics=['accuracy']\n",
        "              )"
      ],
      "execution_count": 16,
      "outputs": []
    },
    {
      "cell_type": "code",
      "metadata": {
        "id": "AYxdXKrdXD9G",
        "colab_type": "code",
        "colab": {
          "base_uri": "https://localhost:8080/",
          "height": 34
        },
        "outputId": "7ec42ec0-f25c-44eb-a75f-e83dd4188666"
      },
      "source": [
        "out = model.predict(np.random.randn(1,320,320,3))\n",
        "out.shape"
      ],
      "execution_count": 17,
      "outputs": [
        {
          "output_type": "execute_result",
          "data": {
            "text/plain": [
              "(1, 20, 20, 1)"
            ]
          },
          "metadata": {
            "tags": []
          },
          "execution_count": 17
        }
      ]
    },
    {
      "cell_type": "code",
      "metadata": {
        "id": "zOH_BOgbZARo",
        "colab_type": "code",
        "colab": {}
      },
      "source": [
        "AUTOTUNE = tf.data.experimental.AUTOTUNE"
      ],
      "execution_count": 18,
      "outputs": []
    },
    {
      "cell_type": "code",
      "metadata": {
        "id": "ALkvbAU0yyzp",
        "colab_type": "code",
        "colab": {}
      },
      "source": [
        "BATCH_SIZE = 64\n",
        "IMG_HEIGHT = 320\n",
        "IMG_WIDTH = 320\n",
        "OUT_HEIGHT = 20\n",
        "OUT_WIDTH = 20"
      ],
      "execution_count": 19,
      "outputs": []
    },
    {
      "cell_type": "code",
      "metadata": {
        "id": "Ey2RBXX0zrPC",
        "colab_type": "code",
        "colab": {
          "base_uri": "https://localhost:8080/",
          "height": 122
        },
        "outputId": "4700eb4a-5b58-4e19-c7af-b375eeed87d7"
      },
      "source": [
        "from google.colab import drive\n",
        "drive.mount('/content/drive')"
      ],
      "execution_count": 20,
      "outputs": [
        {
          "output_type": "stream",
          "text": [
            "Go to this URL in a browser: https://accounts.google.com/o/oauth2/auth?client_id=947318989803-6bn6qk8qdgf4n4g3pfee6491hc0brc4i.apps.googleusercontent.com&redirect_uri=urn%3aietf%3awg%3aoauth%3a2.0%3aoob&response_type=code&scope=email%20https%3a%2f%2fwww.googleapis.com%2fauth%2fdocs.test%20https%3a%2f%2fwww.googleapis.com%2fauth%2fdrive%20https%3a%2f%2fwww.googleapis.com%2fauth%2fdrive.photos.readonly%20https%3a%2f%2fwww.googleapis.com%2fauth%2fpeopleapi.readonly\n",
            "\n",
            "Enter your authorization code:\n",
            "··········\n",
            "Mounted at /content/drive\n"
          ],
          "name": "stdout"
        }
      ]
    },
    {
      "cell_type": "code",
      "metadata": {
        "id": "xse0Azzjz22p",
        "colab_type": "code",
        "colab": {}
      },
      "source": [
        "!cp /content/drive/My\\ Drive/garbage_dataset.zip /content/"
      ],
      "execution_count": 21,
      "outputs": []
    },
    {
      "cell_type": "code",
      "metadata": {
        "id": "avi0P-tj0GN1",
        "colab_type": "code",
        "colab": {}
      },
      "source": [
        "!unzip -q garbage_dataset.zip"
      ],
      "execution_count": 22,
      "outputs": []
    },
    {
      "cell_type": "code",
      "metadata": {
        "id": "sOMEwCKy0Lm8",
        "colab_type": "code",
        "colab": {}
      },
      "source": [
        "list_ds = tf.data.Dataset.list_files(\"garbage_dataset/train/*\")\n",
        "valid_ds = tf.data.Dataset.list_files(\"garbage_dataset/test/*\")"
      ],
      "execution_count": 23,
      "outputs": []
    },
    {
      "cell_type": "code",
      "metadata": {
        "id": "1DXFy085M3h9",
        "colab_type": "code",
        "colab": {}
      },
      "source": [
        "LEN_DS = len(list(list_ds))"
      ],
      "execution_count": 24,
      "outputs": []
    },
    {
      "cell_type": "code",
      "metadata": {
        "id": "epet6-k50msH",
        "colab_type": "code",
        "colab": {
          "base_uri": "https://localhost:8080/",
          "height": 34
        },
        "outputId": "e34e8535-c88a-4e55-ea0e-1f5f10c3fe9c"
      },
      "source": [
        "for f in list_ds.take(1):\n",
        "    print(f)"
      ],
      "execution_count": 25,
      "outputs": [
        {
          "output_type": "stream",
          "text": [
            "tf.Tensor(b'garbage_dataset/train/ee72e1ea-9438-11e5-982d-40f2e96c8ad8.jpg', shape=(), dtype=string)\n"
          ],
          "name": "stdout"
        }
      ]
    },
    {
      "cell_type": "code",
      "metadata": {
        "id": "Wk2BL8fb204M",
        "colab_type": "code",
        "colab": {}
      },
      "source": [
        "import pickle\n",
        "with open('labels.pickle', 'rb') as f:\n",
        "    lbls = pickle.load(f)"
      ],
      "execution_count": 26,
      "outputs": []
    },
    {
      "cell_type": "code",
      "metadata": {
        "id": "HJQ_d6r80xY4",
        "colab_type": "code",
        "colab": {}
      },
      "source": [
        "def get_label(file_path):\n",
        "    parts = tf.strings.split(file_path, '/')\n",
        "    label = lbls[parts[-1].numpy().decode()]\n",
        "    label = tf.convert_to_tensor(label, tf.float32)\n",
        "    return label"
      ],
      "execution_count": 34,
      "outputs": []
    },
    {
      "cell_type": "code",
      "metadata": {
        "id": "8N8hfJJa9z1B",
        "colab_type": "code",
        "colab": {}
      },
      "source": [
        "get_label_wrapper = lambda x: tf.py_function(get_label, [x], tf.float32)"
      ],
      "execution_count": 35,
      "outputs": []
    },
    {
      "cell_type": "code",
      "metadata": {
        "id": "nb3bGJY95JQN",
        "colab_type": "code",
        "colab": {}
      },
      "source": [
        "def decode_img(img):\n",
        "    img = tf.io.decode_image(img, channels=3, expand_animations = False)\n",
        "    img = tf.image.convert_image_dtype(img, tf.float32)\n",
        "    img = tf.image.resize(img, [IMG_WIDTH, IMG_HEIGHT])\n",
        "    return img*2 - 1"
      ],
      "execution_count": 36,
      "outputs": []
    },
    {
      "cell_type": "code",
      "metadata": {
        "id": "812P-z7v5wqU",
        "colab_type": "code",
        "colab": {}
      },
      "source": [
        "def process_path(file_path):\n",
        "    label = get_label_wrapper(file_path)\n",
        "    label.set_shape([OUT_HEIGHT, OUT_WIDTH, num_classes])\n",
        "    img = tf.io.read_file(file_path)\n",
        "    img = decode_img(img)\n",
        "    return img, label"
      ],
      "execution_count": 37,
      "outputs": []
    },
    {
      "cell_type": "code",
      "metadata": {
        "id": "EuZTXr2E50EC",
        "colab_type": "code",
        "colab": {}
      },
      "source": [
        "labeled_ds = list_ds.map(process_path, num_parallel_calls=AUTOTUNE)\n",
        "labeled_test_ds = valid_ds.map(process_path, num_parallel_calls=AUTOTUNE)"
      ],
      "execution_count": 38,
      "outputs": []
    },
    {
      "cell_type": "code",
      "metadata": {
        "id": "bccRMtwc53dj",
        "colab_type": "code",
        "colab": {
          "base_uri": "https://localhost:8080/",
          "height": 51
        },
        "outputId": "d511e482-39c9-421e-e849-53af60e91e68"
      },
      "source": [
        "for image, label in labeled_ds.take(1):\n",
        "    print(\"Image shape: \", image.numpy().shape)\n",
        "    print(\"Label: \", label.numpy().shape)"
      ],
      "execution_count": 39,
      "outputs": [
        {
          "output_type": "stream",
          "text": [
            "Image shape:  (320, 320, 3)\n",
            "Label:  (20, 20, 1)\n"
          ],
          "name": "stdout"
        }
      ]
    },
    {
      "cell_type": "code",
      "metadata": {
        "id": "ux8S1hkENN6z",
        "colab_type": "code",
        "colab": {
          "base_uri": "https://localhost:8080/",
          "height": 34
        },
        "outputId": "2a61959d-bd0c-4fab-d885-8ef37a0c96b4"
      },
      "source": [
        "image.numpy().min()"
      ],
      "execution_count": 40,
      "outputs": [
        {
          "output_type": "execute_result",
          "data": {
            "text/plain": [
              "-1.0"
            ]
          },
          "metadata": {
            "tags": []
          },
          "execution_count": 40
        }
      ]
    },
    {
      "cell_type": "code",
      "metadata": {
        "id": "EK4SmMhH7_3a",
        "colab_type": "code",
        "colab": {}
      },
      "source": [
        "def prepare_for_training(ds, cache=True):\n",
        "    if cache:\n",
        "        if isinstance(cache, str):\n",
        "            ds = ds.cache(cache)\n",
        "        else:\n",
        "            ds = ds.cache()\n",
        "    ds = ds.shuffle(buffer_size=100)\n",
        "    ds = ds.repeat() #repeat forever\n",
        "    ds = ds.batch(BATCH_SIZE)\n",
        "    ds = ds.prefetch(buffer_size=AUTOTUNE)\n",
        "    return ds"
      ],
      "execution_count": 41,
      "outputs": []
    },
    {
      "cell_type": "code",
      "metadata": {
        "id": "GRfdjqnjKH1H",
        "colab_type": "code",
        "colab": {}
      },
      "source": [
        "train_ds = prepare_for_training(labeled_ds)\n",
        "test_ds = prepare_for_training(labeled_test_ds)"
      ],
      "execution_count": 42,
      "outputs": []
    },
    {
      "cell_type": "code",
      "metadata": {
        "id": "PUu7G5_9J4Di",
        "colab_type": "code",
        "colab": {}
      },
      "source": [
        "def lr_scheduler(epoch, lr):\n",
        "    if not epoch % 4 and epoch:\n",
        "        return lr/2\n",
        "    return lr\n",
        "lrsc = tf.keras.callbacks.LearningRateScheduler(lr_scheduler, verbose=1)"
      ],
      "execution_count": 43,
      "outputs": []
    },
    {
      "cell_type": "code",
      "metadata": {
        "id": "K0njlsH7KqsZ",
        "colab_type": "code",
        "colab": {
          "base_uri": "https://localhost:8080/",
          "height": 1000
        },
        "outputId": "a23ca8ee-bfdd-4ed3-ca4e-5bd30039d0ec"
      },
      "source": [
        "history = model.fit(train_ds,\n",
        "                    epochs=15,\n",
        "                    steps_per_epoch=40,\n",
        "                    validation_data=test_ds,\n",
        "                    validation_steps=6,\n",
        "                    callbacks=[lrsc])"
      ],
      "execution_count": 44,
      "outputs": [
        {
          "output_type": "stream",
          "text": [
            "\n",
            "Epoch 00001: LearningRateScheduler reducing learning rate to 0.0010000000474974513.\n",
            "Epoch 1/15\n",
            "40/40 [==============================] - 54s 1s/step - loss: 0.3244 - accuracy: 0.8886 - val_loss: 0.1946 - val_accuracy: 0.9269\n",
            "\n",
            "Epoch 00002: LearningRateScheduler reducing learning rate to 0.0010000000474974513.\n",
            "Epoch 2/15\n",
            "40/40 [==============================] - 3s 81ms/step - loss: 0.1702 - accuracy: 0.9354 - val_loss: 0.1691 - val_accuracy: 0.9348\n",
            "\n",
            "Epoch 00003: LearningRateScheduler reducing learning rate to 0.0010000000474974513.\n",
            "Epoch 3/15\n",
            "40/40 [==============================] - 3s 82ms/step - loss: 0.1548 - accuracy: 0.9390 - val_loss: 0.1563 - val_accuracy: 0.9384\n",
            "\n",
            "Epoch 00004: LearningRateScheduler reducing learning rate to 0.0010000000474974513.\n",
            "Epoch 4/15\n",
            "40/40 [==============================] - 3s 82ms/step - loss: 0.1390 - accuracy: 0.9448 - val_loss: 0.1500 - val_accuracy: 0.9403\n",
            "\n",
            "Epoch 00005: LearningRateScheduler reducing learning rate to 0.0005000000237487257.\n",
            "Epoch 5/15\n",
            "40/40 [==============================] - 3s 82ms/step - loss: 0.1352 - accuracy: 0.9460 - val_loss: 0.1483 - val_accuracy: 0.9406\n",
            "\n",
            "Epoch 00006: LearningRateScheduler reducing learning rate to 0.0005000000237487257.\n",
            "Epoch 6/15\n",
            "40/40 [==============================] - 3s 81ms/step - loss: 0.1269 - accuracy: 0.9496 - val_loss: 0.1485 - val_accuracy: 0.9417\n",
            "\n",
            "Epoch 00007: LearningRateScheduler reducing learning rate to 0.0005000000237487257.\n",
            "Epoch 7/15\n",
            "40/40 [==============================] - 3s 81ms/step - loss: 0.1241 - accuracy: 0.9500 - val_loss: 0.1461 - val_accuracy: 0.9418\n",
            "\n",
            "Epoch 00008: LearningRateScheduler reducing learning rate to 0.0005000000237487257.\n",
            "Epoch 8/15\n",
            "40/40 [==============================] - 3s 81ms/step - loss: 0.1196 - accuracy: 0.9524 - val_loss: 0.1510 - val_accuracy: 0.9422\n",
            "\n",
            "Epoch 00009: LearningRateScheduler reducing learning rate to 0.0002500000118743628.\n",
            "Epoch 9/15\n",
            "40/40 [==============================] - 3s 82ms/step - loss: 0.1156 - accuracy: 0.9536 - val_loss: 0.1384 - val_accuracy: 0.9455\n",
            "\n",
            "Epoch 00010: LearningRateScheduler reducing learning rate to 0.0002500000118743628.\n",
            "Epoch 10/15\n",
            "40/40 [==============================] - 3s 81ms/step - loss: 0.1168 - accuracy: 0.9530 - val_loss: 0.1410 - val_accuracy: 0.9445\n",
            "\n",
            "Epoch 00011: LearningRateScheduler reducing learning rate to 0.0002500000118743628.\n",
            "Epoch 11/15\n",
            "40/40 [==============================] - 3s 82ms/step - loss: 0.1116 - accuracy: 0.9552 - val_loss: 0.1408 - val_accuracy: 0.9454\n",
            "\n",
            "Epoch 00012: LearningRateScheduler reducing learning rate to 0.0002500000118743628.\n",
            "Epoch 12/15\n",
            "40/40 [==============================] - 3s 82ms/step - loss: 0.1127 - accuracy: 0.9546 - val_loss: 0.1402 - val_accuracy: 0.9433\n",
            "\n",
            "Epoch 00013: LearningRateScheduler reducing learning rate to 0.0001250000059371814.\n",
            "Epoch 13/15\n",
            "40/40 [==============================] - 3s 82ms/step - loss: 0.1101 - accuracy: 0.9559 - val_loss: 0.1350 - val_accuracy: 0.9478\n",
            "\n",
            "Epoch 00014: LearningRateScheduler reducing learning rate to 0.0001250000059371814.\n",
            "Epoch 14/15\n",
            "40/40 [==============================] - 3s 82ms/step - loss: 0.1092 - accuracy: 0.9560 - val_loss: 0.1345 - val_accuracy: 0.9468\n",
            "\n",
            "Epoch 00015: LearningRateScheduler reducing learning rate to 0.0001250000059371814.\n",
            "Epoch 15/15\n",
            "40/40 [==============================] - 3s 82ms/step - loss: 0.1064 - accuracy: 0.9576 - val_loss: 0.1472 - val_accuracy: 0.9428\n"
          ],
          "name": "stdout"
        }
      ]
    },
    {
      "cell_type": "code",
      "metadata": {
        "id": "SpEAs0b_K_xf",
        "colab_type": "code",
        "colab": {
          "base_uri": "https://localhost:8080/",
          "height": 513
        },
        "outputId": "e9b7efa4-fe84-45fc-b8c7-0d7cc8e8b37b"
      },
      "source": [
        "acc = history.history['accuracy']\n",
        "val_acc = history.history['val_accuracy']\n",
        "\n",
        "loss = history.history['loss']\n",
        "val_loss = history.history['val_loss']\n",
        "\n",
        "plt.figure(figsize=(8, 8))\n",
        "plt.subplot(2, 1, 1)\n",
        "plt.plot(acc, label='Training Accuracy')\n",
        "plt.plot(val_acc, label='Validation Accuracy')\n",
        "plt.legend(loc='upper right')\n",
        "plt.ylabel('Accuracy')\n",
        "# plt.ylim([min(plt.ylim()),1])\n",
        "plt.title('Training and Validation Accuracy')\n",
        "\n",
        "plt.subplot(2, 1, 2)\n",
        "plt.plot(loss, label='Training Loss')\n",
        "plt.plot(val_loss, label='Validation Loss')\n",
        "plt.legend(loc='upper right')\n",
        "plt.ylabel('Cross Entropy')\n",
        "# plt.ylim([0,1.0])\n",
        "plt.title('Training and Validation Loss')\n",
        "plt.xlabel('epoch')\n",
        "plt.show()"
      ],
      "execution_count": 45,
      "outputs": [
        {
          "output_type": "display_data",
          "data": {
            "image/png": "[encoded data removed]",
            "text/plain": [
              "<Figure size 576x576 with 2 Axes>"
            ]
          },
          "metadata": {
            "tags": [],
            "needs_background": "light"
          }
        }
      ]
    },
    {
      "cell_type": "code",
      "metadata": {
        "id": "muVPUeJlLW4b",
        "colab_type": "code",
        "colab": {}
      },
      "source": [
        "for lyr in model.layers[-57:]:\n",
        "    lyr.trainable=True"
      ],
      "execution_count": 46,
      "outputs": []
    },
    {
      "cell_type": "code",
      "metadata": {
        "id": "fHJSSLjnLare",
        "colab_type": "code",
        "colab": {}
      },
      "source": [
        "model.compile(optimizer=tf.keras.optimizers.Adam(lr=base_learning_rate/40),\n",
        "              loss=tf.keras.losses.BinaryCrossentropy(),\n",
        "              metrics=['accuracy'])"
      ],
      "execution_count": 91,
      "outputs": []
    },
    {
      "cell_type": "code",
      "metadata": {
        "id": "PSbCJp7uLalF",
        "colab_type": "code",
        "colab": {
          "base_uri": "https://localhost:8080/",
          "height": 1000
        },
        "outputId": "0d28e7ae-f8ca-4164-f6c2-aeca5d558894"
      },
      "source": [
        "history_fine = model.fit(train_ds,\n",
        "                         epochs=20,\n",
        "                         steps_per_epoch=40,\n",
        "                        #  initial_epoch = history.epoch[-1]+1,\n",
        "                         validation_data=test_ds,\n",
        "                         validation_steps=6,\n",
        "                         callbacks=[lrsc])"
      ],
      "execution_count": 95,
      "outputs": [
        {
          "output_type": "stream",
          "text": [
            "\n",
            "Epoch 00001: LearningRateScheduler reducing learning rate to 1.56249996052793e-06.\n",
            "Epoch 1/20\n",
            "40/40 [==============================] - 6s 142ms/step - loss: 0.0299 - accuracy: 0.9882 - val_loss: 0.1285 - val_accuracy: 0.9627\n",
            "\n",
            "Epoch 00002: LearningRateScheduler reducing learning rate to 1.56249996052793e-06.\n",
            "Epoch 2/20\n",
            "40/40 [==============================] - 6s 142ms/step - loss: 0.0303 - accuracy: 0.9879 - val_loss: 0.1396 - val_accuracy: 0.9608\n",
            "\n",
            "Epoch 00003: LearningRateScheduler reducing learning rate to 1.56249996052793e-06.\n",
            "Epoch 3/20\n",
            "40/40 [==============================] - 6s 141ms/step - loss: 0.0318 - accuracy: 0.9872 - val_loss: 0.1339 - val_accuracy: 0.9609\n",
            "\n",
            "Epoch 00004: LearningRateScheduler reducing learning rate to 1.56249996052793e-06.\n",
            "Epoch 4/20\n",
            "40/40 [==============================] - 6s 141ms/step - loss: 0.0314 - accuracy: 0.9875 - val_loss: 0.1293 - val_accuracy: 0.9620\n",
            "\n",
            "Epoch 00005: LearningRateScheduler reducing learning rate to 7.81249980263965e-07.\n",
            "Epoch 5/20\n",
            "40/40 [==============================] - 6s 141ms/step - loss: 0.0303 - accuracy: 0.9879 - val_loss: 0.1363 - val_accuracy: 0.9613\n",
            "\n",
            "Epoch 00006: LearningRateScheduler reducing learning rate to 7.81249980263965e-07.\n",
            "Epoch 6/20\n",
            "40/40 [==============================] - 6s 141ms/step - loss: 0.0295 - accuracy: 0.9883 - val_loss: 0.1334 - val_accuracy: 0.9618\n",
            "\n",
            "Epoch 00007: LearningRateScheduler reducing learning rate to 7.81249980263965e-07.\n",
            "Epoch 7/20\n",
            "40/40 [==============================] - 6s 141ms/step - loss: 0.0301 - accuracy: 0.9881 - val_loss: 0.1278 - val_accuracy: 0.9619\n",
            "\n",
            "Epoch 00008: LearningRateScheduler reducing learning rate to 7.81249980263965e-07.\n",
            "Epoch 8/20\n",
            "40/40 [==============================] - 6s 141ms/step - loss: 0.0312 - accuracy: 0.9876 - val_loss: 0.1292 - val_accuracy: 0.9627\n",
            "\n",
            "Epoch 00009: LearningRateScheduler reducing learning rate to 3.906249901319825e-07.\n",
            "Epoch 9/20\n",
            "40/40 [==============================] - 6s 141ms/step - loss: 0.0300 - accuracy: 0.9883 - val_loss: 0.1270 - val_accuracy: 0.9624\n",
            "\n",
            "Epoch 00010: LearningRateScheduler reducing learning rate to 3.906249901319825e-07.\n",
            "Epoch 10/20\n",
            "40/40 [==============================] - 6s 141ms/step - loss: 0.0302 - accuracy: 0.9880 - val_loss: 0.1232 - val_accuracy: 0.9642\n",
            "\n",
            "Epoch 00011: LearningRateScheduler reducing learning rate to 3.906249901319825e-07.\n",
            "Epoch 11/20\n",
            "40/40 [==============================] - 6s 140ms/step - loss: 0.0299 - accuracy: 0.9882 - val_loss: 0.1321 - val_accuracy: 0.9619\n",
            "\n",
            "Epoch 00012: LearningRateScheduler reducing learning rate to 3.906249901319825e-07.\n",
            "Epoch 12/20\n",
            "40/40 [==============================] - 6s 140ms/step - loss: 0.0299 - accuracy: 0.9882 - val_loss: 0.1369 - val_accuracy: 0.9614\n",
            "\n",
            "Epoch 00013: LearningRateScheduler reducing learning rate to 1.9531249506599124e-07.\n",
            "Epoch 13/20\n",
            "40/40 [==============================] - 6s 141ms/step - loss: 0.0301 - accuracy: 0.9882 - val_loss: 0.1339 - val_accuracy: 0.9612\n",
            "\n",
            "Epoch 00014: LearningRateScheduler reducing learning rate to 1.9531249506599124e-07.\n",
            "Epoch 14/20\n",
            "40/40 [==============================] - 6s 140ms/step - loss: 0.0298 - accuracy: 0.9881 - val_loss: 0.1273 - val_accuracy: 0.9624\n",
            "\n",
            "Epoch 00015: LearningRateScheduler reducing learning rate to 1.9531249506599124e-07.\n",
            "Epoch 15/20\n",
            "40/40 [==============================] - 6s 142ms/step - loss: 0.0300 - accuracy: 0.9880 - val_loss: 0.1304 - val_accuracy: 0.9621\n",
            "\n",
            "Epoch 00016: LearningRateScheduler reducing learning rate to 1.9531249506599124e-07.\n",
            "Epoch 16/20\n",
            "40/40 [==============================] - 6s 141ms/step - loss: 0.0301 - accuracy: 0.9880 - val_loss: 0.1309 - val_accuracy: 0.9635\n",
            "\n",
            "Epoch 00017: LearningRateScheduler reducing learning rate to 9.765624753299562e-08.\n",
            "Epoch 17/20\n",
            "40/40 [==============================] - 6s 142ms/step - loss: 0.0296 - accuracy: 0.9882 - val_loss: 0.1408 - val_accuracy: 0.9605\n",
            "\n",
            "Epoch 00018: LearningRateScheduler reducing learning rate to 9.765624753299562e-08.\n",
            "Epoch 18/20\n",
            "40/40 [==============================] - 6s 141ms/step - loss: 0.0302 - accuracy: 0.9880 - val_loss: 0.1224 - val_accuracy: 0.9645\n",
            "\n",
            "Epoch 00019: LearningRateScheduler reducing learning rate to 9.765624753299562e-08.\n",
            "Epoch 19/20\n",
            "40/40 [==============================] - 6s 142ms/step - loss: 0.0309 - accuracy: 0.9877 - val_loss: 0.1290 - val_accuracy: 0.9626\n",
            "\n",
            "Epoch 00020: LearningRateScheduler reducing learning rate to 9.765624753299562e-08.\n",
            "Epoch 20/20\n",
            "40/40 [==============================] - 6s 142ms/step - loss: 0.0303 - accuracy: 0.9881 - val_loss: 0.1236 - val_accuracy: 0.9633\n"
          ],
          "name": "stdout"
        }
      ]
    },
    {
      "cell_type": "code",
      "metadata": {
        "id": "FmjQ-KO6LafS",
        "colab_type": "code",
        "colab": {}
      },
      "source": [
        "acc += history_fine.history['accuracy']\n",
        "val_acc += history_fine.history['val_accuracy']\n",
        "\n",
        "loss += history_fine.history['loss']\n",
        "val_loss += history_fine.history['val_loss']"
      ],
      "execution_count": 96,
      "outputs": []
    },
    {
      "cell_type": "code",
      "metadata": {
        "id": "zc34MHNMLaTl",
        "colab_type": "code",
        "colab": {
          "base_uri": "https://localhost:8080/",
          "height": 730
        },
        "outputId": "43431912-2b6c-4be3-d922-d7d29e7ca632"
      },
      "source": [
        "initial_epochs = history.epoch[-1]\n",
        "second_tune = 35-1\n",
        "third_tune = 55\n",
        "fourth_tune = 75\n",
        "fifth_tune = 95\n",
        "\n",
        "plt.figure(figsize=(12, 12))\n",
        "plt.subplot(2, 1, 1)\n",
        "plt.plot(acc[:95], label='Training Accuracy')\n",
        "plt.plot(val_acc[:95], label='Validation Accuracy')\n",
        "plt.ylim([0.7, 1])\n",
        "plt.plot([initial_epochs,initial_epochs], plt.ylim(), label='Start Fine Tuning')\n",
        "plt.plot([second_tune,second_tune], plt.ylim(), label='Second Tuning')\n",
        "plt.plot([third_tune,third_tune], plt.ylim(), label='Third Tuning')\n",
        "plt.plot([fourth_tune,fourth_tune], plt.ylim(), label='Fourth Tuning')\n",
        "# plt.plot([fifth_tune,fifth_tune], plt.ylim(), label='Fifth Tuning')\n",
        "plt.legend(loc='lower right')\n",
        "plt.title('Training and Validation Accuracy')\n",
        "plt.grid()\n",
        "\n",
        "plt.subplot(2, 1, 2)\n",
        "plt.plot(loss[:95], label='Training Loss')\n",
        "plt.plot(val_loss[:95], label='Validation Loss')\n",
        "# plt.ylim([0, 0.8])\n",
        "plt.plot([initial_epochs,initial_epochs], plt.ylim(), label='Start Fine Tuning')\n",
        "plt.plot([second_tune,second_tune], plt.ylim(), label='Second Tuning')\n",
        "plt.plot([third_tune,third_tune], plt.ylim(), label='Third Tuning')\n",
        "plt.plot([fourth_tune,fourth_tune], plt.ylim(), label='Fourth Tuning')\n",
        "# plt.plot([fifth_tune,fifth_tune], plt.ylim(), label='Fifth Tuning')\n",
        "plt.legend(loc='upper right')\n",
        "plt.title('Training and Validation Loss')\n",
        "plt.xlabel('epoch')\n",
        "plt.grid()\n",
        "plt.show()"
      ],
      "execution_count": 102,
      "outputs": [
        {
          "output_type": "display_data",
          "data": {
            "image/png": "[encoded data removed]",
            "text/plain": [
              "<Figure size 864x864 with 2 Axes>"
            ]
          },
          "metadata": {
            "tags": [],
            "needs_background": "light"
          }
        }
      ]
    },
    {
      "cell_type": "code",
      "metadata": {
        "id": "TKaIJW3urpYS",
        "colab_type": "code",
        "colab": {}
      },
      "source": [
        "for lyr in model.layers[-88:]:\n",
        "    lyr.trainable=True"
      ],
      "execution_count": 53,
      "outputs": []
    },
    {
      "cell_type": "code",
      "metadata": {
        "id": "ZJDx5xFnGM7j",
        "colab_type": "code",
        "colab": {}
      },
      "source": [
        "for lyr in model.layers[-104:]:\n",
        "    lyr.trainable=True"
      ],
      "execution_count": 79,
      "outputs": []
    },
    {
      "cell_type": "code",
      "metadata": {
        "id": "8O33WlGIG3y1",
        "colab_type": "code",
        "colab": {}
      },
      "source": [
        "for lyr in model.layers[-136:]:\n",
        "    lyr.trainable=True"
      ],
      "execution_count": 90,
      "outputs": []
    },
    {
      "cell_type": "code",
      "metadata": {
        "id": "OmxLOcit1j-C",
        "colab_type": "code",
        "colab": {}
      },
      "source": [
        "for lyr in model.layers:\n",
        "    lyr.trainable=True"
      ],
      "execution_count": null,
      "outputs": []
    },
    {
      "cell_type": "code",
      "metadata": {
        "id": "OVP5kAgjY2jS",
        "colab_type": "code",
        "colab": {
          "base_uri": "https://localhost:8080/",
          "height": 34
        },
        "outputId": "a04dfe27-9d7d-4392-fc35-dced0f48f7b3"
      },
      "source": [
        "model.save(\"/content/drive/My Drive/new_model_0_75_-1to1\")"
      ],
      "execution_count": 78,
      "outputs": [
        {
          "output_type": "stream",
          "text": [
            "INFO:tensorflow:Assets written to: /content/drive/My Drive/new_model_0_75_-1to1/assets\n"
          ],
          "name": "stdout"
        }
      ]
    },
    {
      "cell_type": "code",
      "metadata": {
        "id": "PfHtYxZMTyy9",
        "colab_type": "code",
        "colab": {}
      },
      "source": [
        "import os\n",
        "import random"
      ],
      "execution_count": 88,
      "outputs": []
    },
    {
      "cell_type": "code",
      "metadata": {
        "id": "z35bZ62sYEHl",
        "colab_type": "code",
        "colab": {}
      },
      "source": [
        "TDIR = \"garbage_dataset/train/\"\n",
        "tsfiles = os.listdir(TDIR)\n",
        "samples = random.sample(tsfiles,20)\n",
        "samples = tsfiles[:100]\n",
        "for fp in samples:\n",
        "    img = cv2.imread(TDIR+fp)\n",
        "    try:\n",
        "        img = cv2.resize(img, (IMG_HEIGHT, IMG_WIDTH))\n",
        "    except:\n",
        "        continue\n",
        "    img = cv2.cvtColor(img,cv2.COLOR_BGR2RGB).astype(np.float32)\n",
        "    img = img/127.5 - 1\n",
        "    pred = model.predict(np.expand_dims(img,0)).squeeze()\n",
        "    mask = cv2.resize(pred, img.shape[1::-1])\n",
        "    plt.figure(figsize=(10,10))\n",
        "    plt.axis('off')\n",
        "    plt.imshow((img+1)/2)\n",
        "    # plt.show()\n",
        "    plt.imshow(mask, alpha=0.4)\n",
        "    plt.savefig(\"/content/drive/My Drive/detect_out/out_\"+fp, bbox_inches='tight')\n",
        "    plt.close()\n",
        "    # plt.show()"
      ],
      "execution_count": 119,
      "outputs": []
    },
    {
      "cell_type": "code",
      "metadata": {
        "id": "mEWVJPJfYOgB",
        "colab_type": "code",
        "colab": {}
      },
      "source": [
        ""
      ],
      "execution_count": null,
      "outputs": []
    }
  ]
}