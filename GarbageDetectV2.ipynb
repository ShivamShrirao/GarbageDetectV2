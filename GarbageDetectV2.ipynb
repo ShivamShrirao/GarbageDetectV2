{
  "nbformat": 4,
  "nbformat_minor": 0,
  "metadata": {
    "colab": {
      "name": "GarbageDetectV2",
      "provenance": [],
      "collapsed_sections": []
    },
    "kernelspec": {
      "name": "python3",
      "display_name": "Python 3"
    },
    "accelerator": "GPU"
  },
  "cells": [
    {
      "cell_type": "code",
      "metadata": {
        "id": "jPSkk_OHaipy",
        "colab_type": "code",
        "colab": {
          "base_uri": "https://localhost:8080/",
          "height": 357
        },
        "outputId": "e0d25446-990e-43fa-f7ec-bc6a7d2226d2"
      },
      "source": [
        "!nvidia-smi"
      ],
      "execution_count": null,
      "outputs": [
        {
          "output_type": "stream",
          "text": [
            "Wed Jul 15 19:17:07 2020       \n",
            "+-----------------------------------------------------------------------------+\n",
            "| NVIDIA-SMI 450.51.05    Driver Version: 418.67       CUDA Version: 10.1     |\n",
            "|-------------------------------+----------------------+----------------------+\n",
            "| GPU  Name        Persistence-M| Bus-Id        Disp.A | Volatile Uncorr. ECC |\n",
            "| Fan  Temp  Perf  Pwr:Usage/Cap|         Memory-Usage | GPU-Util  Compute M. |\n",
            "|                               |                      |               MIG M. |\n",
            "|===============================+======================+======================|\n",
            "|   0  Tesla K80           Off  | 00000000:00:04.0 Off |                    0 |\n",
            "| N/A   52C    P8    31W / 149W |      0MiB / 11441MiB |      0%      Default |\n",
            "|                               |                      |                 ERR! |\n",
            "+-------------------------------+----------------------+----------------------+\n",
            "                                                                               \n",
            "+-----------------------------------------------------------------------------+\n",
            "| Processes:                                                                  |\n",
            "|  GPU   GI   CI        PID   Type   Process name                  GPU Memory |\n",
            "|        ID   ID                                                   Usage      |\n",
            "|=============================================================================|\n",
            "|  No running processes found                                                 |\n",
            "+-----------------------------------------------------------------------------+\n"
          ],
          "name": "stdout"
        }
      ]
    },
    {
      "cell_type": "code",
      "metadata": {
        "id": "MwmMwqABeGYe",
        "colab_type": "code",
        "colab": {
          "base_uri": "https://localhost:8080/",
          "height": 51
        },
        "outputId": "4e0c01f4-bc33-4880-f059-bf55cca89373"
      },
      "source": [
        "!pip uninstall keras-applications --yes"
      ],
      "execution_count": null,
      "outputs": [
        {
          "output_type": "stream",
          "text": [
            "Uninstalling Keras-Applications-1.0.8:\n",
            "  Successfully uninstalled Keras-Applications-1.0.8\n"
          ],
          "name": "stdout"
        }
      ]
    },
    {
      "cell_type": "code",
      "metadata": {
        "id": "Z5OcePAFeO2D",
        "colab_type": "code",
        "colab": {
          "base_uri": "https://localhost:8080/",
          "height": 258
        },
        "outputId": "9659c24c-ea16-443e-86a6-a415ccdb6aab"
      },
      "source": [
        "!pip install git+https://github.com/keras-team/keras-applications.git@master"
      ],
      "execution_count": null,
      "outputs": [
        {
          "output_type": "stream",
          "text": [
            "Collecting git+https://github.com/keras-team/keras-applications.git@master\n",
            "  Cloning https://github.com/keras-team/keras-applications.git (to revision master) to /tmp/pip-req-build-ixdbb7rx\n",
            "  Running command git clone -q https://github.com/keras-team/keras-applications.git /tmp/pip-req-build-ixdbb7rx\n",
            "Requirement already satisfied: numpy>=1.9.1 in /usr/local/lib/python3.6/dist-packages (from Keras-Applications==1.0.8) (1.18.5)\n",
            "Requirement already satisfied: h5py in /usr/local/lib/python3.6/dist-packages (from Keras-Applications==1.0.8) (2.10.0)\n",
            "Requirement already satisfied: six in /usr/local/lib/python3.6/dist-packages (from h5py->Keras-Applications==1.0.8) (1.12.0)\n",
            "Building wheels for collected packages: Keras-Applications\n",
            "  Building wheel for Keras-Applications (setup.py) ... \u001b[?25l\u001b[?25hdone\n",
            "  Created wheel for Keras-Applications: filename=Keras_Applications-1.0.8-cp36-none-any.whl size=62000 sha256=91a7b7b3c4524e56cbcaf4521057b7cfe061ce6c82c0cfd34f6b8050ba72c55c\n",
            "  Stored in directory: /tmp/pip-ephem-wheel-cache-oo1c1nmv/wheels/f8/3c/48/007f19c86cc5d5f276a748f003a63bc19558539eab93afb545\n",
            "Successfully built Keras-Applications\n",
            "Installing collected packages: Keras-Applications\n",
            "Successfully installed Keras-Applications-1.0.8\n"
          ],
          "name": "stdout"
        }
      ]
    },
    {
      "cell_type": "code",
      "metadata": {
        "id": "NtFrg6FQex26",
        "colab_type": "code",
        "colab": {
          "base_uri": "https://localhost:8080/",
          "height": 34
        },
        "outputId": "c142aee2-d38b-40bc-d789-f23d752b264e"
      },
      "source": [
        "from keras.applications import keras_applications\n",
        "from keras_applications import mobilenet_v3"
      ],
      "execution_count": null,
      "outputs": [
        {
          "output_type": "stream",
          "text": [
            "Using TensorFlow backend.\n"
          ],
          "name": "stderr"
        }
      ]
    },
    {
      "cell_type": "code",
      "metadata": {
        "id": "wiFobbnftK9f",
        "colab_type": "code",
        "colab": {}
      },
      "source": [
        "import tensorflow as tf\n",
        "import numpy as np"
      ],
      "execution_count": null,
      "outputs": []
    },
    {
      "cell_type": "code",
      "metadata": {
        "id": "nRHVycCLgFzY",
        "colab_type": "code",
        "colab": {
          "base_uri": "https://localhost:8080/",
          "height": 71
        },
        "outputId": "b5b3c37d-b546-43fb-a369-5be29f5b4760"
      },
      "source": [
        "base_model = mobilenet_v3.MobileNetV3Small(input_shape=(None, None, 3),\n",
        "                              alpha=1.0,\n",
        "                              minimalistic=False,\n",
        "                              include_top=False,\n",
        "                              weights='imagenet',\n",
        "                              backend=tf.keras.backend,\n",
        "                              layers=tf.keras.layers,\n",
        "                              models=tf.keras.models,\n",
        "                              utils=tf.keras.utils\n",
        "                              )"
      ],
      "execution_count": null,
      "outputs": [
        {
          "output_type": "stream",
          "text": [
            "/usr/local/lib/python3.6/dist-packages/keras_applications/mobilenet_v3.py:348: UserWarning: `input_shape` is undefined or non-square, or `rows` is not 224. Weights for input shape (224, 224) will be loaded as the default.\n",
            "  warnings.warn('`input_shape` is undefined or non-square, '\n"
          ],
          "name": "stderr"
        }
      ]
    },
    {
      "cell_type": "code",
      "metadata": {
        "id": "B8vEspc5qd_E",
        "colab_type": "code",
        "colab": {}
      },
      "source": [
        "base_model.summary()"
      ],
      "execution_count": null,
      "outputs": []
    },
    {
      "cell_type": "code",
      "metadata": {
        "id": "x_alOIsZXJ84",
        "colab_type": "code",
        "colab": {}
      },
      "source": [
        "base_model.trainable = False"
      ],
      "execution_count": null,
      "outputs": []
    },
    {
      "cell_type": "code",
      "metadata": {
        "id": "SoAcnatitiOm",
        "colab_type": "code",
        "colab": {
          "base_uri": "https://localhost:8080/",
          "height": 34
        },
        "outputId": "896ea3d4-15f2-4e2c-f047-3f0eb8ac0347"
      },
      "source": [
        "out = base_model.predict(np.random.randn(1,320,320,3))\n",
        "out.shape"
      ],
      "execution_count": null,
      "outputs": [
        {
          "output_type": "execute_result",
          "data": {
            "text/plain": [
              "(1, 10, 10, 576)"
            ]
          },
          "metadata": {
            "tags": []
          },
          "execution_count": 41
        }
      ]
    },
    {
      "cell_type": "code",
      "metadata": {
        "id": "TMsKDfD6YITL",
        "colab_type": "code",
        "colab": {}
      },
      "source": [
        "num_classes = 1"
      ],
      "execution_count": null,
      "outputs": []
    },
    {
      "cell_type": "code",
      "metadata": {
        "id": "BRfOUXnr2dJr",
        "colab_type": "code",
        "colab": {
          "base_uri": "https://localhost:8080/",
          "height": 34
        },
        "outputId": "8674b4a8-408a-40ef-cdd9-9500294a0527"
      },
      "source": [
        "input = tf.keras.layers.Input(shape=(None, None, 576))\n",
        "sf = tf.keras.layers.Conv2D(128, kernel_size=1, strides=1)(input)\n",
        "sf = tf.keras.layers.Activation(mobilenet_v3.hard_swish)(sf)\n",
        "sf = tf.keras.layers.Conv2DTranspose(64, kernel_size=3, strides=2, padding=\"same\")(sf)\n",
        "sf = tf.keras.layers.Activation(mobilenet_v3.hard_swish)(sf)\n",
        "sf = tf.keras.layers.Conv2D(num_classes, kernel_size=1, strides=1)(sf)\n",
        "sf = tf.keras.layers.Activation('sigmoid')(sf)\n",
        "sf.shape"
      ],
      "execution_count": null,
      "outputs": [
        {
          "output_type": "execute_result",
          "data": {
            "text/plain": [
              "TensorShape([None, None, None, 1])"
            ]
          },
          "metadata": {
            "tags": []
          },
          "execution_count": 122
        }
      ]
    },
    {
      "cell_type": "code",
      "metadata": {
        "id": "0-5oxuNEzE-U",
        "colab_type": "code",
        "colab": {}
      },
      "source": [
        "clf = tf.keras.models.Model(inputs=input, outputs=sf)"
      ],
      "execution_count": null,
      "outputs": []
    },
    {
      "cell_type": "code",
      "metadata": {
        "id": "4pw8jD4pzF4t",
        "colab_type": "code",
        "colab": {
          "base_uri": "https://localhost:8080/",
          "height": 391
        },
        "outputId": "acca1aa1-ec2b-462b-d5b1-216020bcd875"
      },
      "source": [
        "clf.summary()"
      ],
      "execution_count": null,
      "outputs": [
        {
          "output_type": "stream",
          "text": [
            "Model: \"model_21\"\n",
            "_________________________________________________________________\n",
            "Layer (type)                 Output Shape              Param #   \n",
            "=================================================================\n",
            "input_48 (InputLayer)        [(None, None, None, 576)] 0         \n",
            "_________________________________________________________________\n",
            "conv2d_36 (Conv2D)           (None, None, None, 128)   73856     \n",
            "_________________________________________________________________\n",
            "activation_128 (Activation)  (None, None, None, 128)   0         \n",
            "_________________________________________________________________\n",
            "conv2d_transpose_59 (Conv2DT (None, None, None, 64)    73792     \n",
            "_________________________________________________________________\n",
            "activation_129 (Activation)  (None, None, None, 64)    0         \n",
            "_________________________________________________________________\n",
            "conv2d_37 (Conv2D)           (None, None, None, 1)     65        \n",
            "_________________________________________________________________\n",
            "activation_130 (Activation)  (None, None, None, 1)     0         \n",
            "=================================================================\n",
            "Total params: 147,713\n",
            "Trainable params: 147,713\n",
            "Non-trainable params: 0\n",
            "_________________________________________________________________\n"
          ],
          "name": "stdout"
        }
      ]
    },
    {
      "cell_type": "code",
      "metadata": {
        "id": "-ukpQ0IdVif_",
        "colab_type": "code",
        "colab": {}
      },
      "source": [
        "model = tf.keras.Sequential([base_model, clf])"
      ],
      "execution_count": null,
      "outputs": []
    },
    {
      "cell_type": "code",
      "metadata": {
        "id": "nptz1axcatKZ",
        "colab_type": "code",
        "colab": {}
      },
      "source": [
        "base_learning_rate = 0.001\n",
        "model.compile(optimizer=tf.keras.optimizers.Adam(lr=base_learning_rate),\n",
        "              loss=tf.keras.losses.BinaryCrossentropy(),\n",
        "              metrics=['accuracy'])"
      ],
      "execution_count": null,
      "outputs": []
    },
    {
      "cell_type": "code",
      "metadata": {
        "id": "QdB2PAGhXCY8",
        "colab_type": "code",
        "colab": {
          "base_uri": "https://localhost:8080/",
          "height": 221
        },
        "outputId": "b6e6329d-b7d0-4b9c-8ec9-f48c828efe2d"
      },
      "source": [
        "model.summary()"
      ],
      "execution_count": null,
      "outputs": [
        {
          "output_type": "stream",
          "text": [
            "Model: \"sequential_3\"\n",
            "_________________________________________________________________\n",
            "Layer (type)                 Output Shape              Param #   \n",
            "=================================================================\n",
            "MobilenetV3small (Model)     (None, None, None, 576)   939120    \n",
            "_________________________________________________________________\n",
            "model_21 (Model)             (None, None, None, 1)     147713    \n",
            "=================================================================\n",
            "Total params: 1,086,833\n",
            "Trainable params: 147,713\n",
            "Non-trainable params: 939,120\n",
            "_________________________________________________________________\n"
          ],
          "name": "stdout"
        }
      ]
    },
    {
      "cell_type": "code",
      "metadata": {
        "id": "AYxdXKrdXD9G",
        "colab_type": "code",
        "colab": {
          "base_uri": "https://localhost:8080/",
          "height": 34
        },
        "outputId": "a06f6b39-bf6b-4d51-c54a-37536c65b591"
      },
      "source": [
        "out = model.predict(np.random.randn(1,320,320,3))\n",
        "out.shape"
      ],
      "execution_count": null,
      "outputs": [
        {
          "output_type": "execute_result",
          "data": {
            "text/plain": [
              "(1, 20, 20, 1)"
            ]
          },
          "metadata": {
            "tags": []
          },
          "execution_count": 128
        }
      ]
    },
    {
      "cell_type": "code",
      "metadata": {
        "id": "zOH_BOgbZARo",
        "colab_type": "code",
        "colab": {}
      },
      "source": [
        ""
      ],
      "execution_count": null,
      "outputs": []
    }
  ]
}